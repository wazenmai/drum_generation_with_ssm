{
 "cells": [
  {
   "cell_type": "markdown",
   "metadata": {},
   "source": [
    "# import library"
   ]
  },
  {
   "cell_type": "code",
   "execution_count": 1,
   "metadata": {},
   "outputs": [
    {
     "ename": "ModuleNotFoundError",
     "evalue": "No module named 'cv2'",
     "output_type": "error",
     "traceback": [
      "\u001b[0;31m---------------------------------------------------------------------------\u001b[0m",
      "\u001b[0;31mModuleNotFoundError\u001b[0m                       Traceback (most recent call last)",
      "\u001b[0;32m<ipython-input-1-bddde7b639c6>\u001b[0m in \u001b[0;36m<module>\u001b[0;34m\u001b[0m\n\u001b[1;32m     11\u001b[0m \u001b[0;32mfrom\u001b[0m \u001b[0mimageio\u001b[0m \u001b[0;32mimport\u001b[0m \u001b[0mimread\u001b[0m \u001b[0;32mas\u001b[0m \u001b[0mimread\u001b[0m\u001b[0;34m\u001b[0m\u001b[0;34m\u001b[0m\u001b[0m\n\u001b[1;32m     12\u001b[0m \u001b[0;32mfrom\u001b[0m \u001b[0mimageio\u001b[0m \u001b[0;32mimport\u001b[0m \u001b[0mimsave\u001b[0m \u001b[0;32mas\u001b[0m \u001b[0mimsave\u001b[0m\u001b[0;34m\u001b[0m\u001b[0;34m\u001b[0m\u001b[0m\n\u001b[0;32m---> 13\u001b[0;31m \u001b[0;32mimport\u001b[0m \u001b[0mcv2\u001b[0m\u001b[0;34m\u001b[0m\u001b[0;34m\u001b[0m\u001b[0m\n\u001b[0m\u001b[1;32m     14\u001b[0m \u001b[0;32mimport\u001b[0m \u001b[0mlibrosa\u001b[0m\u001b[0;34m.\u001b[0m\u001b[0mdisplay\u001b[0m\u001b[0;34m\u001b[0m\u001b[0;34m\u001b[0m\u001b[0m\n\u001b[1;32m     15\u001b[0m \u001b[0;32mfrom\u001b[0m \u001b[0mmatplotlib\u001b[0m \u001b[0;32mimport\u001b[0m \u001b[0mpyplot\u001b[0m \u001b[0;32mas\u001b[0m \u001b[0mplt\u001b[0m\u001b[0;34m\u001b[0m\u001b[0;34m\u001b[0m\u001b[0m\n",
      "\u001b[0;31mModuleNotFoundError\u001b[0m: No module named 'cv2'"
     ]
    }
   ],
   "source": [
    "import warnings\n",
    "warnings.filterwarnings('ignore',category=FutureWarning)\n",
    "\n",
    "import librosa, IPython, datetime, time, os, sys, copy, dill, pickle, mir_eval, glob\n",
    "import numpy as np\n",
    "import pandas as pd\n",
    "import IPython.display as ipd\n",
    "from scipy.spatial.distance import euclidean, pdist, squareform\n",
    "from scipy.stats import norm as stats_norm\n",
    "from time import gmtime, strftime\n",
    "from imageio import imread as imread\n",
    "from imageio import imsave as imsave\n",
    "import cv2\n",
    "import librosa.display\n",
    "from matplotlib import pyplot as plt\n",
    "import pretty_midi\n",
    "from midiutil.MidiFile import MIDIFile\n",
    "\n",
    "import matplotlib.pyplot as plt\n",
    "%matplotlib inline\n",
    "\n",
    "print (\"[info] Current Time:     \" + datetime.datetime.now().strftime('%Y/%m/%d  %H:%M:%S'))\n",
    "print (\"[info] Python Version:   \" + sys.version.split('\\n')[0].split(' ')[0])\n",
    "print (\"[info] Working Dir:      \" + os.getcwd()+'/')"
   ]
  },
  {
   "cell_type": "markdown",
   "metadata": {},
   "source": [
    "# Define SSM function"
   ]
  },
  {
   "cell_type": "code",
   "execution_count": 2,
   "metadata": {},
   "outputs": [],
   "source": [
    "def rsssm_762(rf7_input_figure):\n",
    "    save_data = rf7_input_figure;     save_file_name = './saving_tmp_file_vae1.png';\n",
    "    fig = plt.figure(figsize=[8,8]);     ax = fig.add_subplot(111);\n",
    "    ax.imshow(save_data,\n",
    "              origin='lower', \n",
    "              cmap='hot')\n",
    "    ax.axes.get_xaxis().set_visible(False);     ax.axes.get_yaxis().set_visible(False); ax.set_frame_on(False);\n",
    "    plt.savefig(save_file_name,\n",
    "                dpi=80,\n",
    "                bbox_inches='tight',\n",
    "                pad_inches=0)\n",
    "    #plt.show()\n",
    "    plt.close()\n",
    "    #IPython.display.clear_output()\n",
    "    img_readback = cv2.imread(save_file_name)\n",
    "    os.remove(save_file_name)\n",
    "    img_readback = np.mean(img_readback, axis=-1)\n",
    "    return(-img_readback)"
   ]
  },
  {
   "cell_type": "markdown",
   "metadata": {},
   "source": [
    "# Define function to read CQT data"
   ]
  },
  {
   "cell_type": "code",
   "execution_count": 3,
   "metadata": {},
   "outputs": [
    {
     "name": "stdout",
     "output_type": "stream",
     "text": [
      "Total files: 24\n",
      "./pre_processed_data/cqt_pooled_data/01_A_Hard_Days_Night_no_drum.pkl\n",
      "./pre_processed_data/cqt_pooled_data/02_Anna_no_drum.pkl\n",
      "./pre_processed_data/cqt_pooled_data/03_Back_In_The_USSR_no_drum.pkl\n"
     ]
    }
   ],
   "source": [
    "read_pooled_cqt_flist = np.sort(glob.glob('./pre_processed_data/cqt_pooled_data/*.pkl', recursive=True)).tolist()\n",
    "\n",
    "print ('Total files: {}'.format(len(read_pooled_cqt_flist)))\n",
    "for x in read_pooled_cqt_flist[:3]: print (x)\n",
    "\n",
    "def read_pooled_cqt(file_idx,\n",
    "                    read_pooled_cqt_flist=read_pooled_cqt_flist):\n",
    "    \n",
    "    file_name = read_pooled_cqt_flist[file_idx]\n",
    "    with open(file_name, 'rb') as pkl_file:\n",
    "        pooled_cqt_data = pickle.load(pkl_file)\n",
    "        \n",
    "    return (pooled_cqt_data)\n",
    "\n",
    "#print(len(read_pooled_cqt(0)))\n",
    "#print(read_pooled_cqt(0)[0].shape)"
   ]
  },
  {
   "cell_type": "markdown",
   "metadata": {},
   "source": [
    "# Reload 46-inst drum MIDI data"
   ]
  },
  {
   "cell_type": "code",
   "execution_count": 4,
   "metadata": {},
   "outputs": [
    {
     "name": "stdout",
     "output_type": "stream",
     "text": [
      "[info] Songs reloaded: 24\n"
     ]
    }
   ],
   "source": [
    "file_name = 'song_drum_bar_list_46.pkl'\n",
    "folder_name = './pre_processed_data/cdsed_drum_bar_list_28_46/'\n",
    "full_file_name = folder_name + file_name\n",
    "    \n",
    "with open(full_file_name, 'rb') as pkl_file:\n",
    "    song_drum_bar_list_46 = pickle.load(pkl_file)\n",
    "\n",
    "song_idx = 0; bar_idx = 0;\n",
    "total_songs = len(song_drum_bar_list_46)\n",
    "\n",
    "print('[info] Songs reloaded: {}'.format(total_songs))\n",
    "#print(song_drum_bar_list_46[song_idx][bar_idx].shape)"
   ]
  },
  {
   "cell_type": "markdown",
   "metadata": {},
   "source": [
    "# Get bar index"
   ]
  },
  {
   "cell_type": "code",
   "execution_count": 5,
   "metadata": {},
   "outputs": [
    {
     "name": "stdout",
     "output_type": "stream",
     "text": [
      "[info] bar index info reloaded.\n"
     ]
    }
   ],
   "source": [
    "# Get bar num list\n",
    "bar_num_list1 = []; bar_num_list2 = [];\n",
    "\n",
    "for song_idx in range(0, total_songs):\n",
    "    \n",
    "    bar_num_list1.append(len(song_drum_bar_list_46[song_idx]))\n",
    "    bar_num_list2.append(len(read_pooled_cqt(song_idx)))\n",
    "    \n",
    "\n",
    "# Get absolute bar index\n",
    "abs_bar_idx_str_list = []\n",
    "\n",
    "for song_idx in range(0, total_songs):\n",
    "    \n",
    "    song_idx_str = \"{:0>5}\".format(song_idx)\n",
    "    \n",
    "    total_bars = len(song_drum_bar_list_46[song_idx])\n",
    "    \n",
    "    for bar_idx in range(0, total_bars):\n",
    "        \n",
    "        bar_idx_str = \"{:0>3}\".format(bar_idx)\n",
    "        \n",
    "        abs_bar_idx_str = song_idx_str + \"_\" + bar_idx_str\n",
    "        \n",
    "        abs_bar_idx_str_list.append(abs_bar_idx_str)\n",
    "\n",
    "\n",
    "# save abs_bar_idx_list\n",
    "with open('./pre_processed_data/abs_bar_idx_str_list.pkl', 'wb') as pkl_file:\n",
    "    pickle.dump(abs_bar_idx_str_list, pkl_file)\n",
    "    \n",
    "print('[info] bar index info reloaded.')"
   ]
  },
  {
   "cell_type": "markdown",
   "metadata": {},
   "source": [
    "# Get spectrogram by index"
   ]
  },
  {
   "cell_type": "code",
   "execution_count": 6,
   "metadata": {},
   "outputs": [
    {
     "name": "stdout",
     "output_type": "stream",
     "text": [
      "(84, 96)\n",
      "(46, 16)\n"
     ]
    }
   ],
   "source": [
    "def get_cqt_by_abs_bar_idx(abs_bar_idx):\n",
    "    \n",
    "    song_idx_int = int(abs_bar_idx.split(\"_\")[0])\n",
    "    bar_idx_int = int(abs_bar_idx.split(\"_\")[1])\n",
    "    \n",
    "    reload_cqt_data = read_pooled_cqt(song_idx_int)[bar_idx_int]\n",
    "    reload_drum_data = song_drum_bar_list_46[song_idx][bar_idx]\n",
    "    \n",
    "    return (reload_cqt_data, reload_drum_data)\n",
    "\n",
    "cqt_data, drum_data = get_cqt_by_abs_bar_idx(abs_bar_idx_str_list[0])\n",
    "print(cqt_data.shape)\n",
    "print(drum_data.shape)"
   ]
  },
  {
   "cell_type": "markdown",
   "metadata": {},
   "source": [
    "# Reload SSM data"
   ]
  },
  {
   "cell_type": "code",
   "execution_count": 7,
   "metadata": {},
   "outputs": [
    {
     "name": "stdout",
     "output_type": "stream",
     "text": [
      "[info] Song index: 1\n",
      "[info] SSM shape: (81, 81)\n"
     ]
    },
    {
     "data": {
      "image/png": "[encoded data removed]",
      "text/plain": [
       "<Figure size 1296x432 with 1 Axes>"
      ]
     },
     "metadata": {},
     "output_type": "display_data"
    }
   ],
   "source": [
    "# load 24 test files SSM\n",
    "with open('./pre_processed_data/model_out_drum_ssm_pkg.pkl', 'rb') as pkl_file:\n",
    "    ssm_data_pkg_list = pickle.load(pkl_file)\n",
    "    \n",
    "song_idx = 1\n",
    "\n",
    "song_bars_num =  ssm_data_pkg_list[0][song_idx]\n",
    "cqt_ssm =        ssm_data_pkg_list[1][song_idx]\n",
    "drum_ssm =       ssm_data_pkg_list[2][song_idx]\n",
    "drum_model_ssm = ssm_data_pkg_list[3][song_idx]\n",
    "\n",
    "print ('[info] Song index: {}'.format(song_idx))\n",
    "print ('[info] SSM shape: {}'.format(drum_model_ssm.shape))\n",
    "\n",
    "merged_plot_data = np.hstack([rsssm_762(cqt_ssm), \n",
    "                              rsssm_762(drum_ssm), \n",
    "                              rsssm_762(drum_model_ssm)])\n",
    "plt.figure(figsize=(6*3, 6)); plt.imshow(merged_plot_data, cmap='hot'); plt.show();"
   ]
  },
  {
   "cell_type": "markdown",
   "metadata": {},
   "source": [
    "# Check original drum SSM value range"
   ]
  },
  {
   "cell_type": "code",
   "execution_count": 8,
   "metadata": {},
   "outputs": [
    {
     "name": "stdout",
     "output_type": "stream",
     "text": [
      "[info] All 24 files processed.\n",
      "[info] pix value avg: 0.15299\n",
      "[info] pix value std: 0.10520\n",
      "[info] pix value max: 0.44721\n",
      "[info] pix value min: 0.00000\n"
     ]
    }
   ],
   "source": [
    "data_avg_v_list = []; data_std_v_list = []; data_max_v_list = []; data_min_v_list = [];\n",
    "\n",
    "tota_files = len(ssm_data_pkg_list[0])\n",
    "\n",
    "for song_idx in range(0, tota_files):\n",
    "\n",
    "    drum_ssm_data = ssm_data_pkg_list[2][song_idx]\n",
    "    \n",
    "    #print (drum_ssm_data.shape)\n",
    "    \n",
    "    data_avg_v_list.append(np.mean(drum_ssm_data))\n",
    "    data_std_v_list.append(np.std(drum_ssm_data))\n",
    "    data_max_v_list.append(np.max(drum_ssm_data))\n",
    "    data_min_v_list.append(np.min(drum_ssm_data))\n",
    "    \n",
    "print ('[info] All {} files processed.'.format(tota_files))\n",
    "print(\"[info] pix value avg: {:.5f}\".format(np.mean(data_avg_v_list)))\n",
    "print(\"[info] pix value std: {:.5f}\".format(np.mean(data_std_v_list)))\n",
    "print(\"[info] pix value max: {:.5f}\".format(np.max(data_max_v_list)))\n",
    "print(\"[info] pix value min: {:.5f}\".format(np.min(data_min_v_list)))"
   ]
  },
  {
   "cell_type": "markdown",
   "metadata": {},
   "source": [
    "# Check VAE-GAN generated drum SSM value range"
   ]
  },
  {
   "cell_type": "code",
   "execution_count": 9,
   "metadata": {},
   "outputs": [
    {
     "name": "stdout",
     "output_type": "stream",
     "text": [
      "[info] All 24 files processed.\n",
      "[info] pix value avg: 0.16442\n",
      "[info] pix value std: 0.07791\n",
      "[info] pix value max: 0.43875\n",
      "[info] pix value min: -0.04643\n"
     ]
    }
   ],
   "source": [
    "data_avg_v_list = []; data_std_v_list = []; data_max_v_list = []; data_min_v_list = [];\n",
    "\n",
    "tota_files = len(ssm_data_pkg_list[0])\n",
    "\n",
    "for song_idx in range(0, tota_files):\n",
    "\n",
    "    drum_ssm_data = ssm_data_pkg_list[3][song_idx]\n",
    "    \n",
    "    data_avg_v_list.append(np.mean(drum_ssm_data))\n",
    "    data_std_v_list.append(np.std(drum_ssm_data))\n",
    "    data_max_v_list.append(np.max(drum_ssm_data))\n",
    "    data_min_v_list.append(np.min(drum_ssm_data))\n",
    "    \n",
    "print ('[info] All {} files processed.'.format(tota_files))\n",
    "print(\"[info] pix value avg: {:.5f}\".format(np.mean(data_avg_v_list)))\n",
    "print(\"[info] pix value std: {:.5f}\".format(np.mean(data_std_v_list)))\n",
    "print(\"[info] pix value max: {:.5f}\".format(np.max(data_max_v_list)))\n",
    "print(\"[info] pix value min: {:.5f}\".format(np.min(data_min_v_list)))"
   ]
  },
  {
   "cell_type": "markdown",
   "metadata": {},
   "source": [
    "# define function get_bar_dist"
   ]
  },
  {
   "cell_type": "code",
   "execution_count": 10,
   "metadata": {},
   "outputs": [
    {
     "name": "stdout",
     "output_type": "stream",
     "text": [
      "[info] Function defined.\n"
     ]
    }
   ],
   "source": [
    "def get_bar_dist(gbd_total_bars, gbd_self_bar_idx, dist_base_v):\n",
    "    \n",
    "    data_dist_list = []\n",
    "    \n",
    "    for bar_idx in range(0, gbd_total_bars):\n",
    "        get_distance = np.abs(bar_idx - gbd_self_bar_idx) * dist_base_v\n",
    "        data_dist_list.append(get_distance)\n",
    "        \n",
    "    data_dist_ary = np.array(data_dist_list)\n",
    "    \n",
    "    return (data_dist_ary)\n",
    "\n",
    "\n",
    "def get_cqt_ratio_by_distance(gcr_in):\n",
    "    \n",
    "    drum_ssm_max_distance = 1.0\n",
    "    \n",
    "    # normalize value into [0.0 ~ 1.0]\n",
    "    gcr_out = gcr_in / drum_ssm_max_distance\n",
    "    \n",
    "    # inverse ratio\n",
    "    gcr_out = 1.0 - gcr_out\n",
    "    \n",
    "    # make sure all value in value range\n",
    "    gcr_out[gcr_out>=1.0] = 1.0;     gcr_out[gcr_out<=0.0] = 0.0;\n",
    "    \n",
    "    return gcr_out\n",
    "\n",
    "print (\"[info] Function defined.\")"
   ]
  },
  {
   "cell_type": "markdown",
   "metadata": {},
   "source": [
    "# Get bars correlation value & index (from VAE-GAM generated SSM)"
   ]
  },
  {
   "cell_type": "code",
   "execution_count": 11,
   "metadata": {},
   "outputs": [
    {
     "name": "stdout",
     "output_type": "stream",
     "text": [
      "song idx:   0, result format: (101, 4, 101)\n",
      "song idx:   1, result format: (81, 4, 81)\n",
      "song idx:   2, result format: (91, 4, 91)\n",
      "song idx:   3, result format: (94, 4, 94)\n",
      "song idx:   4, result format: (86, 4, 86)\n",
      "song idx:   5, result format: (84, 4, 84)\n",
      "song idx:   6, result format: (101, 4, 101)\n",
      "song idx:   7, result format: (91, 4, 91)\n",
      "song idx:   8, result format: (88, 4, 88)\n",
      "song idx:   9, result format: (79, 4, 79)\n",
      "song idx:  10, result format: (140, 4, 140)\n",
      "song idx:  11, result format: (68, 4, 68)\n",
      "song idx:  12, result format: (74, 4, 74)\n",
      "song idx:  13, result format: (62, 4, 62)\n",
      "song idx:  14, result format: (109, 4, 109)\n",
      "song idx:  15, result format: (67, 4, 67)\n",
      "song idx:  16, result format: (111, 4, 111)\n",
      "song idx:  17, result format: (95, 4, 95)\n",
      "song idx:  18, result format: (52, 4, 52)\n",
      "song idx:  19, result format: (118, 4, 118)\n",
      "song idx:  20, result format: (140, 4, 140)\n",
      "song idx:  21, result format: (133, 4, 133)\n",
      "song idx:  22, result format: (100, 4, 100)\n",
      "song idx:  23, result format: (146, 4, 146)\n",
      "\n",
      "[info] All 24 songs process done.\n"
     ]
    }
   ],
   "source": [
    "songs_high_correlation_bars_list = []\n",
    "\n",
    "total_files = len(ssm_data_pkg_list[2])\n",
    "\n",
    "# loop over all files\n",
    "for song_idx in range(0, total_files):\n",
    "        \n",
    "    ssm_data_reload = ssm_data_pkg_list[2][song_idx]\n",
    "\n",
    "    high_correlation_bars_list = []\n",
    "\n",
    "    song_len = ssm_data_reload.shape[0]\n",
    "    \n",
    "    # get how many similar bars data\n",
    "    k_nearest = 16\n",
    "\n",
    "    #k_nearest = min(k_nearest, song_len)\n",
    "    k_nearest = song_len\n",
    "\n",
    "    ssm_max_v = np.max(ssm_data_reload)\n",
    "\n",
    "    for bar_idx in range(0, song_len):\n",
    "        \n",
    "        bar_correlation_data_raw = ssm_data_reload[:, bar_idx].copy()\n",
    "        \n",
    "        bar_correlation_data = bar_correlation_data_raw.copy()\n",
    "        \n",
    "        # make self distance max value\n",
    "        bar_correlation_data[bar_idx] = ssm_max_v        \n",
    "        \n",
    "        # add small value to make sure near bars are closer in ranking\n",
    "        dist_base_v = 1e-3\n",
    "        \n",
    "        bar_correlation_data += get_bar_dist(song_len, bar_idx, dist_base_v)\n",
    "        \n",
    "        ssm_bar_dist_original = bar_correlation_data_raw\n",
    "        nearest_bar_k_index = np.argsort(bar_correlation_data)[:k_nearest]\n",
    "        nearest_bar_k_value = np.sort(bar_correlation_data)[:k_nearest]       \n",
    "        nearest_bar_k_ratio = get_cqt_ratio_by_distance(nearest_bar_k_value)\n",
    "        \n",
    "        high_correlation_bars_list.append(np.vstack([ssm_bar_dist_original, \n",
    "                                                     nearest_bar_k_index, \n",
    "                                                     nearest_bar_k_value,\n",
    "                                                     nearest_bar_k_ratio]))\n",
    "        \n",
    "    high_correlation_bars_ary = np.array(high_correlation_bars_list)\n",
    "    \n",
    "    songs_high_correlation_bars_list.append(high_correlation_bars_ary)\n",
    "    \n",
    "    print ('song idx: {:3d}, result format: {}'.format(song_idx, high_correlation_bars_ary.shape))\n",
    "    \n",
    "print ('\\n[info] All {} songs process done.'.format(total_files))"
   ]
  },
  {
   "cell_type": "markdown",
   "metadata": {},
   "source": [
    "# Keep useful data"
   ]
  },
  {
   "cell_type": "code",
   "execution_count": 12,
   "metadata": {},
   "outputs": [
    {
     "name": "stdout",
     "output_type": "stream",
     "text": [
      "file is prossed.\n",
      "(101, 2, 8)\n",
      "(81, 2, 8)\n",
      "(91, 2, 8)\n"
     ]
    },
    {
     "data": {
      "text/plain": [
       "array([[ 3.        ,  4.        , 85.        , 86.        , 87.        ],\n",
       "       [ 0.99699998,  0.99599999,  0.91500002,  0.91399997,  0.91299999]])"
      ]
     },
     "execution_count": 12,
     "metadata": {},
     "output_type": "execute_result"
    }
   ],
   "source": [
    "vaegan_bar_selection_index_list = []\n",
    "\n",
    "for song_idx in range(0, total_files):\n",
    "    \n",
    "    vaegan_bar_selection_index_list.append(songs_high_correlation_bars_list[song_idx][:,[1,3],0:8])\n",
    "    \n",
    "print ('file is prossed.')\n",
    "\n",
    "print(vaegan_bar_selection_index_list[0].shape)\n",
    "print(vaegan_bar_selection_index_list[1].shape)\n",
    "print(vaegan_bar_selection_index_list[2].shape)\n",
    "\n",
    "# show data format\n",
    "vaegan_bar_selection_index_list[0][0,:,:5]"
   ]
  },
  {
   "cell_type": "markdown",
   "metadata": {},
   "source": [
    "# Save index list"
   ]
  },
  {
   "cell_type": "code",
   "execution_count": 13,
   "metadata": {},
   "outputs": [
    {
     "name": "stdout",
     "output_type": "stream",
     "text": [
      "[info] File saved.\n"
     ]
    }
   ],
   "source": [
    "file_name = './pre_processed_data/vaegan_bar_selection_index_list.pkl'\n",
    "with open(file_name, 'wb') as pkl_file:\n",
    "    pickle.dump(vaegan_bar_selection_index_list, pkl_file)\n",
    "print ('[info] File saved.')"
   ]
  },
  {
   "cell_type": "code",
   "execution_count": null,
   "metadata": {},
   "outputs": [],
   "source": []
  },
  {
   "cell_type": "code",
   "execution_count": null,
   "metadata": {},
   "outputs": [],
   "source": []
  },
  {
   "cell_type": "code",
   "execution_count": null,
   "metadata": {},
   "outputs": [],
   "source": []
  },
  {
   "cell_type": "markdown",
   "metadata": {},
   "source": [
    "# Reload Song attribute data"
   ]
  },
  {
   "cell_type": "code",
   "execution_count": 14,
   "metadata": {},
   "outputs": [],
   "source": [
    "file_name = './pre_processed_data/cdsed_drum_bar_list_28_46/song_drum_bar_list_46.pkl'   \n",
    "with open(file_name, 'rb') as pkl_file:\n",
    "    song_drum_bar_list_46 = pickle.load(pkl_file)\n",
    "\n",
    "song_bar_note_num_list = []\n",
    "\n",
    "for song_idx in range(0, total_songs):\n",
    "    bar_num_in_song = len(song_drum_bar_list_46[song_idx])\n",
    "    bar_note_num_list = [np.round(np.sum(song_drum_bar_list_46[song_idx][bar_idx])).astype(np.float32) for bar_idx in range(bar_num_in_song)]    \n",
    "    song_bar_note_num_list.append(bar_note_num_list)"
   ]
  },
  {
   "cell_type": "markdown",
   "metadata": {},
   "source": [
    "# define soft one hot function"
   ]
  },
  {
   "cell_type": "code",
   "execution_count": 15,
   "metadata": {},
   "outputs": [
    {
     "name": "stdout",
     "output_type": "stream",
     "text": [
      "[info] One Hot function defined.\n"
     ]
    }
   ],
   "source": [
    "# x input range = (0.0 , 1.0)\n",
    "def get_soft_one_hot(gsoh_x, gsoh_bit_width=10):\n",
    "    \n",
    "    gsoh_x = min(gsoh_x, 1.0)\n",
    "    gsoh_x = max(gsoh_x, 0.0)\n",
    "\n",
    "    gsoh_x_scaled = gsoh_x * (gsoh_bit_width-1.0)\n",
    "    \n",
    "    gsoh_norm_ratio = 1.0 / stats_norm.pdf(0)    \n",
    "    dist_fat_index = 1\n",
    "    gsoh_out_list = [gsoh_norm_ratio * stats_norm.pdf((gsoh_x_scaled-offset)*(1./dist_fat_index)) for offset in range(gsoh_bit_width)]    \n",
    "    gsoh_out_list = [x*100.0 for x in gsoh_out_list]\n",
    "    \n",
    "    return(gsoh_out_list)\n",
    "\n",
    "print ('[info] One Hot function defined.')"
   ]
  },
  {
   "cell_type": "markdown",
   "metadata": {},
   "source": [
    "# Generate attribute list"
   ]
  },
  {
   "cell_type": "code",
   "execution_count": 16,
   "metadata": {},
   "outputs": [
    {
     "name": "stdout",
     "output_type": "stream",
     "text": [
      "[info] Start converstion...\n",
      "[info] 2019/10/18  20:03:21\n",
      "\n",
      "[info] Song processed: 1, bars: 101, T: (10,), S: (16,), P: (101, 10), N: (101,)\n",
      "[info] Song processed: 2, bars: 81, T: (10,), S: (16,), P: (81, 10), N: (81,)\n",
      "[info] Song processed: 3, bars: 91, T: (10,), S: (16,), P: (91, 10), N: (91,)\n",
      "[info] Song processed: 4, bars: 94, T: (10,), S: (16,), P: (94, 10), N: (94,)\n",
      "[info] Song processed: 5, bars: 86, T: (10,), S: (16,), P: (86, 10), N: (86,)\n",
      "[info] Song processed: 6, bars: 84, T: (10,), S: (16,), P: (84, 10), N: (84,)\n",
      "[info] Song processed: 7, bars: 101, T: (10,), S: (16,), P: (101, 10), N: (101,)\n",
      "[info] Song processed: 8, bars: 91, T: (10,), S: (16,), P: (91, 10), N: (91,)\n",
      "[info] Song processed: 9, bars: 88, T: (10,), S: (16,), P: (88, 10), N: (88,)\n",
      "[info] Song processed: 10, bars: 79, T: (10,), S: (16,), P: (79, 10), N: (79,)\n",
      "[info] Song processed: 11, bars: 140, T: (10,), S: (16,), P: (140, 10), N: (140,)\n",
      "[info] Song processed: 12, bars: 68, T: (10,), S: (16,), P: (68, 10), N: (68,)\n",
      "[info] Song processed: 13, bars: 74, T: (10,), S: (16,), P: (74, 10), N: (74,)\n",
      "[info] Song processed: 14, bars: 62, T: (10,), S: (16,), P: (62, 10), N: (62,)\n",
      "[info] Song processed: 15, bars: 109, T: (10,), S: (16,), P: (109, 10), N: (109,)\n",
      "[info] Song processed: 16, bars: 67, T: (10,), S: (16,), P: (67, 10), N: (67,)\n",
      "[info] Song processed: 17, bars: 111, T: (10,), S: (16,), P: (111, 10), N: (111,)\n",
      "[info] Song processed: 18, bars: 95, T: (10,), S: (16,), P: (95, 10), N: (95,)\n",
      "[info] Song processed: 19, bars: 52, T: (10,), S: (16,), P: (52, 10), N: (52,)\n",
      "[info] Song processed: 20, bars: 118, T: (10,), S: (16,), P: (118, 10), N: (118,)\n",
      "[info] Song processed: 21, bars: 140, T: (10,), S: (16,), P: (140, 10), N: (140,)\n",
      "[info] Song processed: 22, bars: 133, T: (10,), S: (16,), P: (133, 10), N: (133,)\n",
      "[info] Song processed: 23, bars: 100, T: (10,), S: (16,), P: (100, 10), N: (100,)\n",
      "[info] Song processed: 24, bars: 146, T: (10,), S: (16,), P: (146, 10), N: (146,)\n",
      "\n",
      "[info] All files are processed.\n",
      "2019/10/18  20:03:26\n",
      "\n",
      "[info] file is saved.\n"
     ]
    }
   ],
   "source": [
    "print ('[info] Start converstion...')\n",
    "print ('[info] ' + datetime.datetime.now().strftime('%Y/%m/%d  %H:%M:%S') + '\\n')\n",
    "\n",
    "all_merged_attribute_list = []\n",
    "\n",
    "loop_n_files = len(song_bar_note_num_list)\n",
    "\n",
    "for song_idx in range(0, loop_n_files):\n",
    "    \n",
    "    # get soft one hot tempo\n",
    "    tempo_value = 120\n",
    "    tempo_norm_v = (tempo_value - 60.0)*(1.0/90.0)\n",
    "    tempo_norm_v_oh = np.array(get_soft_one_hot(tempo_norm_v))\n",
    "    \n",
    "    # get soft one hot style\n",
    "    style_value = 15\n",
    "    style_tag_array_oh = np.zeros([16])\n",
    "    style_tag_array_oh[style_value] = 100.0\n",
    "    \n",
    "    n_note_in_bars_ary = np.array(song_bar_note_num_list[song_idx])\n",
    "    n_bars_in_song = len(song_drum_bar_list_46[song_idx])\n",
    "    \n",
    "    # get soft one hot progress value\n",
    "    progress_ratio_list = [(x+1)/n_bars_in_song for x in range(n_bars_in_song)]\n",
    "    song_progress_oh = np.array([np.array(get_soft_one_hot(x)) for x in progress_ratio_list])\n",
    "    \n",
    "    all_merged_drum_data = [n_bars_in_song,\n",
    "                            tempo_norm_v_oh,\n",
    "                            style_tag_array_oh,\n",
    "                            song_progress_oh,\n",
    "                            n_note_in_bars_ary]\n",
    "    \n",
    "    \n",
    "    all_merged_attribute_list.append(all_merged_drum_data)\n",
    "    \n",
    "\n",
    "    if (song_idx+1)%1==0:\n",
    "        \n",
    "        print ('[info] Song processed: {}, bars: {}, T: {}, S: {}, P: {}, N: {}'.format(song_idx+1, \n",
    "                                                                                        n_bars_in_song, \n",
    "                                                                                        tempo_norm_v_oh.shape,\n",
    "                                                                                        style_tag_array_oh.shape,\n",
    "                                                                                        song_progress_oh.shape,\n",
    "                                                                                        n_note_in_bars_ary.shape))\n",
    "\n",
    "print ('\\n[info] All files are processed.')\n",
    "print (datetime.datetime.now().strftime('%Y/%m/%d  %H:%M:%S'))\n",
    "\n",
    "# save all attribute\n",
    "file_name = './pre_processed_data/all_song_attribute.pkl'\n",
    "with open(file_name, 'wb') as pkl_file:\n",
    "    pickle.dump(all_merged_attribute_list, pkl_file)\n",
    "    \n",
    "print ('\\n[info] file is saved.')"
   ]
  },
  {
   "cell_type": "code",
   "execution_count": null,
   "metadata": {},
   "outputs": [],
   "source": []
  },
  {
   "cell_type": "code",
   "execution_count": null,
   "metadata": {},
   "outputs": [],
   "source": []
  },
  {
   "cell_type": "code",
   "execution_count": null,
   "metadata": {},
   "outputs": [],
   "source": []
  }
 ],
 "metadata": {
  "kernelspec": {
   "display_name": "Python 3",
   "language": "python",
   "name": "python3"
  },
  "language_info": {
   "codemirror_mode": {
    "name": "ipython",
    "version": 3
   },
   "file_extension": ".py",
   "mimetype": "text/x-python",
   "name": "python",
   "nbconvert_exporter": "python",
   "pygments_lexer": "ipython3",
   "version": "3.8.10"
  }
 },
 "nbformat": 4,
 "nbformat_minor": 2
}
