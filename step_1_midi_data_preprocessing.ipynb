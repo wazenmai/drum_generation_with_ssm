{
 "cells": [
  {
   "cell_type": "markdown",
   "metadata": {},
   "source": [
    "# import library"
   ]
  },
  {
   "cell_type": "code",
   "execution_count": 16,
   "metadata": {},
   "outputs": [
    {
     "data": {
      "text/plain": [
       "'0.8.1'"
      ]
     },
     "execution_count": 16,
     "metadata": {},
     "output_type": "execute_result"
    }
   ],
   "source": [
    "librosa.__version__"
   ]
  },
  {
   "cell_type": "code",
   "execution_count": 78,
   "metadata": {},
   "outputs": [
    {
     "name": "stdout",
     "output_type": "stream",
     "text": [
      "[info] Current Time:     2021/06/21  14:58:44\n",
      "[info] Python Version:   3.8.10\n",
      "[info] Working Dir:      /Users/wazenmaichen/wazenmai/nthu/CS/MIR/Final_Project/drum_generation_with_ssm/\n"
     ]
    }
   ],
   "source": [
    "import warnings\n",
    "warnings.filterwarnings('ignore',category=FutureWarning)\n",
    "\n",
    "import librosa, IPython, datetime, time, os, sys, copy, dill, pickle, mir_eval, glob\n",
    "import numpy as np\n",
    "import pandas as pd\n",
    "import IPython.display as ipd\n",
    "from scipy.spatial.distance import euclidean, pdist, squareform\n",
    "from time import gmtime, strftime\n",
    "from imageio import imread as imread\n",
    "from imageio import imsave as imsave\n",
    "import librosa.display\n",
    "import tensorflow as tf\n",
    "import IPython.display as ipd\n",
    "import soundfile as sf\n",
    "from pypianoroll import Multitrack, Track\n",
    "from matplotlib import pyplot as plt\n",
    "import pretty_midi\n",
    "from midiutil.MidiFile import MIDIFile\n",
    "#from datetime import datetime\n",
    "#from ops import *\n",
    "#import pydub\n",
    "import matplotlib.pyplot as plt\n",
    "%matplotlib inline\n",
    "\n",
    "print (\"[info] Current Time:     \" + datetime.datetime.now().strftime('%Y/%m/%d  %H:%M:%S'))\n",
    "print (\"[info] Python Version:   \" + sys.version.split('\\n')[0].split(' ')[0])\n",
    "print (\"[info] Working Dir:      \" + os.getcwd()+'/')"
   ]
  },
  {
   "cell_type": "markdown",
   "metadata": {},
   "source": [
    "# Define functions"
   ]
  },
  {
   "cell_type": "code",
   "execution_count": 79,
   "metadata": {},
   "outputs": [
    {
     "name": "stdout",
     "output_type": "stream",
     "text": [
      "Synthesis function define done.\n"
     ]
    }
   ],
   "source": [
    "# Ensure File DIR\n",
    "def ensure_dir(file_path):\n",
    "    directory = os.path.dirname(file_path)\n",
    "    if not os.path.exists(directory):\n",
    "        os.makedirs(directory)\n",
    "\n",
    "# Define function for MIDI to wav synthesis\n",
    "def syn_midi(input_midi, output_file, samp_rate):\n",
    "    print(\"input_midi: \", input_midi)\n",
    "    tmp_fname = input_midi.split('/')[-1][:-4] + '_tmp_{}.wav'.format(str(datetime.datetime.now().strftime('%H%M%S')))\n",
    "    print(\"tmp_fname: \", tmp_fname)\n",
    "    # run MIDI to audio synthesis\n",
    "    syn_cmd = \"fluidsynth -ni sound_front_lib.sf2 {} -F {} -r {}\".format(input_midi, tmp_fname, samp_rate)\n",
    "    os.system(syn_cmd)\n",
    "\n",
    "    #use only 16-bit mono sound, and do volume normalization\n",
    "    y, sr = librosa.load('{}'.format(tmp_fname), sr=samp_rate, mono=True)\n",
    "    y = y*0.95/np.max([np.abs(np.max(y)), np.abs(np.min(y))])\n",
    "    sf.write(output_file, (y * np.iinfo(np.int16).max).astype(np.int16), sr, 'PCM_16')\n",
    "    try:\n",
    "        os.system('rm {}'.format(tmp_fname))\n",
    "    except:\n",
    "        print ('file is not exist')\n",
    "\n",
    "    print(\"MIDI to Audio transfer is done, synthesized file name: {}\".format(output_file))\n",
    "    \n",
    "print ('Synthesis function define done.')"
   ]
  },
  {
   "cell_type": "markdown",
   "metadata": {},
   "source": [
    "# Read all MIDI files"
   ]
  },
  {
   "cell_type": "code",
   "execution_count": 80,
   "metadata": {},
   "outputs": [
    {
     "name": "stdout",
     "output_type": "stream",
     "text": [
      "Total files: 24\n",
      "./input_midi/Beatles_20/02_all_tracks/01_A_Hard_Days_Night_all_tracks.mid\n",
      "./input_midi/Beatles_20/02_all_tracks/02_Anna_all_tracks.mid\n",
      "./input_midi/Beatles_20/02_all_tracks/03_Back_In_The_USSR_all_tracks.mid\n",
      "./input_midi/Beatles_20/02_all_tracks/04_Cant_Buy_Me_Love_all_tracks.mid\n",
      "./input_midi/Beatles_20/02_all_tracks/05_Hold_Me_Tight_all_tracks.mid\n",
      "./input_midi/Beatles_20/02_all_tracks/06_I_Call_Your_Name_all_tracks.mid\n",
      "./input_midi/Beatles_20/02_all_tracks/07_I_Wanna_Be_Your_Man_all_tracks.mid\n",
      "./input_midi/Beatles_20/02_all_tracks/08_Money_all_tracks.mid\n",
      "./input_midi/Beatles_20/02_all_tracks/09_The_Word_all_tracks.mid\n",
      "./input_midi/Beatles_20/02_all_tracks/10_Free_As_A_Bird_all_tracks.mid\n",
      "./input_midi/Beatles_20/02_all_tracks/11_Hey_Jude_all_tracks.mid\n",
      "./input_midi/Beatles_20/02_all_tracks/12_Little_Child_all_tracks.mid\n",
      "./input_midi/Beatles_20/02_all_tracks/13_Hey_Bulldog_all_tracks.mid\n",
      "./input_midi/Beatles_20/02_all_tracks/14_Lovely_Rita_all_tracks.mid\n",
      "./input_midi/Beatles_20/02_all_tracks/15_The_Night_Before_all_tracks.mid\n",
      "./input_midi/Beatles_20/02_all_tracks/16_From_Me_To_You_all_tracks.mid\n",
      "./input_midi/Beatles_20/02_all_tracks/17_Roll_Over_Beethoven_all_tracks.mid\n",
      "./input_midi/Beatles_20/02_all_tracks/18_Come_Together_all_tracks.mid\n",
      "./input_midi/Beatles_20/02_all_tracks/19_Babys_In_Black_all_tracks.mid\n",
      "./input_midi/Michael_Jackson_5/02_all_tracks/21_Michael_Jackson_-_Bad_all_tracks.mid\n",
      "./input_midi/Michael_Jackson_5/02_all_tracks/22_Michael_Jackson_-_Billie_Jean_all_tracks.mid\n",
      "./input_midi/Michael_Jackson_5/02_all_tracks/23_Michael_Jackson_-_Man_In_The_Mirror_all_tracks.mid\n",
      "./input_midi/Michael_Jackson_5/02_all_tracks/24_Michael_Jackson_-_Smooth_Criminal_all_tracks.mid\n",
      "./input_midi/Michael_Jackson_5/02_all_tracks/25_Michael_Jackson_-_Beat_It_all_tracks.mid\n",
      "Total files: 24\n",
      "./input_midi/Beatles_20/03_no_drum/01_A_Hard_Days_Night_no_drum.mid\n",
      "./input_midi/Beatles_20/03_no_drum/02_Anna_no_drum.mid\n",
      "./input_midi/Beatles_20/03_no_drum/03_Back_In_The_USSR_no_drum.mid\n",
      "Total files: 24\n",
      "./input_midi/Beatles_20/04_drum_only/01_A_Hard_Days_Night_drum_only.mid\n",
      "./input_midi/Beatles_20/04_drum_only/02_Anna_drum_only.mid\n",
      "./input_midi/Beatles_20/04_drum_only/03_Back_In_The_USSR_drum_only.mid\n"
     ]
    }
   ],
   "source": [
    "all_tracks_mid_flist = np.sort(glob.glob('./input_midi/**/*.mid', recursive=True)).tolist()\n",
    "all_tracks_mid_flist = np.sort([x.replace(' ','') for x in all_tracks_mid_flist if \"all_tracks.mid\" in x]).tolist()\n",
    "print ('Total files: {}'.format(len(all_tracks_mid_flist)))\n",
    "# show file format\n",
    "for x in all_tracks_mid_flist[:]: print (x)\n",
    "\n",
    "    \n",
    "no_drum_mid_flist = np.sort(glob.glob('./input_midi/**/*.mid', recursive=True)).tolist()\n",
    "no_drum_mid_flist = np.sort([x.replace(' ','') for x in no_drum_mid_flist if \"no_drum.mid\" in x]).tolist()\n",
    "print ('Total files: {}'.format(len(no_drum_mid_flist)))\n",
    "# show file format\n",
    "for x in no_drum_mid_flist[:3]: print (x)\n",
    "    \n",
    "\n",
    "drum_only_mid_flist = np.sort(glob.glob('./input_midi/**/*.mid', recursive=True)).tolist()\n",
    "drum_only_mid_flist = np.sort([x.replace(' ','') for x in drum_only_mid_flist if \"drum_only.mid\" in x]).tolist()\n",
    "print ('Total files: {}'.format(len(drum_only_mid_flist)))\n",
    "# show file format\n",
    "for x in drum_only_mid_flist[:3]: print (x)"
   ]
  },
  {
   "cell_type": "markdown",
   "metadata": {},
   "source": [
    "# Test SYN MIDI function"
   ]
  },
  {
   "cell_type": "code",
   "execution_count": 81,
   "metadata": {},
   "outputs": [
    {
     "name": "stdout",
     "output_type": "stream",
     "text": [
      "input_midi:  ./input_midi/Michael_Jackson_5/02_all_tracks/22_Michael_Jackson_-_Billie_Jean_all_tracks.mid\n",
      "tmp_fname:  22_Michael_Jackson_-_Billie_Jean_all_tracks_tmp_145944.wav\n",
      "MIDI to Audio transfer is done, synthesized file name: ./pre_processed_data/syn_wav/22_Michael_Jackson_-_Billie_Jean_all_tracks.wav\n",
      "[info] MIDI: ./input_midi/Michael_Jackson_5/02_all_tracks/22_Michael_Jackson_-_Billie_Jean_all_tracks.mid\n",
      "[info] WAVE: ./pre_processed_data/syn_wav/22_Michael_Jackson_-_Billie_Jean_all_tracks.wav\n"
     ]
    }
   ],
   "source": [
    "file_idx = 20\n",
    "midi_fname = all_tracks_mid_flist[file_idx]\n",
    "output_wav_name = './pre_processed_data/syn_wav/' + midi_fname.split('/')[-1][:-4] + '.wav'\n",
    "ensure_dir(output_wav_name)\n",
    "syn_midi(midi_fname, output_wav_name, 44100)\n",
    "print ('[info] MIDI: {}'.format(midi_fname))\n",
    "print ('[info] WAVE: {}'.format(output_wav_name))"
   ]
  },
  {
   "cell_type": "markdown",
   "metadata": {},
   "source": [
    "# define get_merged_mt function"
   ]
  },
  {
   "cell_type": "code",
   "execution_count": 82,
   "metadata": {},
   "outputs": [
    {
     "name": "stdout",
     "output_type": "stream",
     "text": [
      "[info] MIDI merge function defined.\n"
     ]
    }
   ],
   "source": [
    "def get_merged_mt(multitrack):\n",
    "    \n",
    "    # define track info\n",
    "    TRACK_INFO = (('Drums', 0),\n",
    "                  ('Piano', 0),\n",
    "                  ('Guitar', 24),\n",
    "                  ('Bass', 32),\n",
    "                  ('Strings', 48))\n",
    "    \n",
    "    \"\"\"Merge the multitrack pianorolls into five instrument families and\n",
    "    return the resulting multitrack pianoroll object.\"\"\"\n",
    "    track_lists_to_merge = [[] for _ in range(5)]\n",
    "    for idx, track in enumerate(multitrack.tracks):\n",
    "        if track.is_drum:\n",
    "            track_lists_to_merge[0].append(idx)\n",
    "        elif track.program//8 == 0:\n",
    "            track_lists_to_merge[1].append(idx)\n",
    "        elif track.program//8 == 3:\n",
    "            track_lists_to_merge[2].append(idx)\n",
    "        elif track.program//8 == 4:\n",
    "            track_lists_to_merge[3].append(idx)\n",
    "        elif track.program < 96 or 104 <= track.program < 112:\n",
    "            track_lists_to_merge[4].append(idx)\n",
    "\n",
    "    tracks = []\n",
    "    for idx, track_list_to_merge in enumerate(track_lists_to_merge):\n",
    "        if track_list_to_merge:\n",
    "            merged = multitrack[track_list_to_merge].get_merged_pianoroll('max')\n",
    "            tracks.append(Track(merged, TRACK_INFO[idx][1], (idx == 0),\n",
    "                                TRACK_INFO[idx][0]))\n",
    "        else:\n",
    "            tracks.append(Track(None, TRACK_INFO[idx][1], (idx == 0),\n",
    "                                TRACK_INFO[idx][0]))\n",
    "    return Multitrack(None, tracks, multitrack.tempo, multitrack.downbeat, multitrack.beat_resolution, multitrack.name)\n",
    "#     return Multitrack(None, tracks=tracks, tempo=multitrack.tempo, downbeat=multitrack.downbeat,\n",
    "#                       resolution=multitrack.resolution, name=multitrack.name)\n",
    "\n",
    "print ('[info] MIDI merge function defined.')"
   ]
  },
  {
   "cell_type": "markdown",
   "metadata": {},
   "source": [
    "# Define MIDI object to store MIDI data"
   ]
  },
  {
   "cell_type": "code",
   "execution_count": 83,
   "metadata": {},
   "outputs": [
    {
     "name": "stdout",
     "output_type": "stream",
     "text": [
      "MIDI track object is defined.\n"
     ]
    }
   ],
   "source": [
    "class midi_track(object):\n",
    "    def __init__(self):\n",
    "        self.file_name = \"\"\n",
    "        self.pmidi_data = []\n",
    "        self.pmidi_all_tracks_data = []\n",
    "        self.pmidi_no_drum_data = []\n",
    "        self.pmidi_drum_only_data = []\n",
    "        self.tempo = 0        \n",
    "        self.downbeats_list_fixed = []\n",
    "        self.bar_range_list_fixed = []\n",
    "        self.drum_bar_list = []\n",
    "        self.drum_bar_list_bin = []\n",
    "        self.drum_bar_note_num = []\n",
    "        \n",
    "print ('MIDI track object is defined.')"
   ]
  },
  {
   "cell_type": "markdown",
   "metadata": {},
   "source": [
    "# loop over all files"
   ]
  },
  {
   "cell_type": "code",
   "execution_count": 84,
   "metadata": {
    "scrolled": false
   },
   "outputs": [
    {
     "name": "stdout",
     "output_type": "stream",
     "text": [
      "[info] file  1:  01_A_Hard_Days_Night_all_tracks.mid\n"
     ]
    },
    {
     "name": "stderr",
     "output_type": "stream",
     "text": [
      "/usr/local/lib/python3.8/site-packages/pretty_midi/pretty_midi.py:97: RuntimeWarning: Tempo, Key or Time signature change events found on non-zero tracks.  This is not a valid type 0 or type 1 MIDI file.  Tempo, Key or Time Signature may be wrong.\n",
      "  warnings.warn(\n"
     ]
    },
    {
     "name": "stdout",
     "output_type": "stream",
     "text": [
      "wav_fname_nodrum:  ./pre_processed_data/proc_no_drum_wav/01_A_Hard_Days_Night_no_drum.wav\n",
      "midi_fname_nodrum:  ./pre_processed_data/proc_no_drum_mid/01_A_Hard_Days_Night_no_drum.mid\n",
      "input_midi:  ./pre_processed_data/proc_no_drum_mid/01_A_Hard_Days_Night_no_drum.mid\n",
      "tmp_fname:  01_A_Hard_Days_Night_no_drum_tmp_150042.wav\n",
      "MIDI to Audio transfer is done, synthesized file name: ./pre_processed_data/proc_no_drum_wav/01_A_Hard_Days_Night_no_drum.wav\n",
      "[info] file  2:  02_Anna_all_tracks.mid\n",
      "wav_fname_nodrum:  ./pre_processed_data/proc_no_drum_wav/02_Anna_no_drum.wav\n",
      "midi_fname_nodrum:  ./pre_processed_data/proc_no_drum_mid/02_Anna_no_drum.mid\n",
      "input_midi:  ./pre_processed_data/proc_no_drum_mid/02_Anna_no_drum.mid\n",
      "tmp_fname:  02_Anna_no_drum_tmp_150049.wav\n",
      "MIDI to Audio transfer is done, synthesized file name: ./pre_processed_data/proc_no_drum_wav/02_Anna_no_drum.wav\n",
      "[info] file  3:  03_Back_In_The_USSR_all_tracks.mid\n",
      "wav_fname_nodrum:  ./pre_processed_data/proc_no_drum_wav/03_Back_In_The_USSR_no_drum.wav\n",
      "midi_fname_nodrum:  ./pre_processed_data/proc_no_drum_mid/03_Back_In_The_USSR_no_drum.mid\n",
      "input_midi:  ./pre_processed_data/proc_no_drum_mid/03_Back_In_The_USSR_no_drum.mid\n",
      "tmp_fname:  03_Back_In_The_USSR_no_drum_tmp_150058.wav\n",
      "MIDI to Audio transfer is done, synthesized file name: ./pre_processed_data/proc_no_drum_wav/03_Back_In_The_USSR_no_drum.wav\n",
      "[info] file  4:  04_Cant_Buy_Me_Love_all_tracks.mid\n",
      "wav_fname_nodrum:  ./pre_processed_data/proc_no_drum_wav/04_Cant_Buy_Me_Love_no_drum.wav\n",
      "midi_fname_nodrum:  ./pre_processed_data/proc_no_drum_mid/04_Cant_Buy_Me_Love_no_drum.mid\n",
      "input_midi:  ./pre_processed_data/proc_no_drum_mid/04_Cant_Buy_Me_Love_no_drum.mid\n",
      "tmp_fname:  04_Cant_Buy_Me_Love_no_drum_tmp_150107.wav\n",
      "MIDI to Audio transfer is done, synthesized file name: ./pre_processed_data/proc_no_drum_wav/04_Cant_Buy_Me_Love_no_drum.wav\n",
      "[info] file  5:  05_Hold_Me_Tight_all_tracks.mid\n",
      "wav_fname_nodrum:  ./pre_processed_data/proc_no_drum_wav/05_Hold_Me_Tight_no_drum.wav\n",
      "midi_fname_nodrum:  ./pre_processed_data/proc_no_drum_mid/05_Hold_Me_Tight_no_drum.mid\n",
      "input_midi:  ./pre_processed_data/proc_no_drum_mid/05_Hold_Me_Tight_no_drum.mid\n",
      "tmp_fname:  05_Hold_Me_Tight_no_drum_tmp_150115.wav\n",
      "MIDI to Audio transfer is done, synthesized file name: ./pre_processed_data/proc_no_drum_wav/05_Hold_Me_Tight_no_drum.wav\n",
      "[info] file  6:  06_I_Call_Your_Name_all_tracks.mid\n",
      "wav_fname_nodrum:  ./pre_processed_data/proc_no_drum_wav/06_I_Call_Your_Name_no_drum.wav\n",
      "midi_fname_nodrum:  ./pre_processed_data/proc_no_drum_mid/06_I_Call_Your_Name_no_drum.mid\n",
      "input_midi:  ./pre_processed_data/proc_no_drum_mid/06_I_Call_Your_Name_no_drum.mid\n",
      "tmp_fname:  06_I_Call_Your_Name_no_drum_tmp_150121.wav\n",
      "MIDI to Audio transfer is done, synthesized file name: ./pre_processed_data/proc_no_drum_wav/06_I_Call_Your_Name_no_drum.wav\n",
      "[info] file  7:  07_I_Wanna_Be_Your_Man_all_tracks.mid\n",
      "wav_fname_nodrum:  ./pre_processed_data/proc_no_drum_wav/07_I_Wanna_Be_Your_Man_no_drum.wav\n",
      "midi_fname_nodrum:  ./pre_processed_data/proc_no_drum_mid/07_I_Wanna_Be_Your_Man_no_drum.mid\n",
      "input_midi:  ./pre_processed_data/proc_no_drum_mid/07_I_Wanna_Be_Your_Man_no_drum.mid\n",
      "tmp_fname:  07_I_Wanna_Be_Your_Man_no_drum_tmp_150126.wav\n",
      "MIDI to Audio transfer is done, synthesized file name: ./pre_processed_data/proc_no_drum_wav/07_I_Wanna_Be_Your_Man_no_drum.wav\n",
      "[info] file  8:  08_Money_all_tracks.mid\n",
      "wav_fname_nodrum:  ./pre_processed_data/proc_no_drum_wav/08_Money_no_drum.wav\n",
      "midi_fname_nodrum:  ./pre_processed_data/proc_no_drum_mid/08_Money_no_drum.mid\n",
      "input_midi:  ./pre_processed_data/proc_no_drum_mid/08_Money_no_drum.mid\n",
      "tmp_fname:  08_Money_no_drum_tmp_150135.wav\n",
      "MIDI to Audio transfer is done, synthesized file name: ./pre_processed_data/proc_no_drum_wav/08_Money_no_drum.wav\n",
      "[info] file  9:  09_The_Word_all_tracks.mid\n",
      "wav_fname_nodrum:  ./pre_processed_data/proc_no_drum_wav/09_The_Word_no_drum.wav\n",
      "midi_fname_nodrum:  ./pre_processed_data/proc_no_drum_mid/09_The_Word_no_drum.mid\n",
      "input_midi:  ./pre_processed_data/proc_no_drum_mid/09_The_Word_no_drum.mid\n",
      "tmp_fname:  09_The_Word_no_drum_tmp_150144.wav\n",
      "MIDI to Audio transfer is done, synthesized file name: ./pre_processed_data/proc_no_drum_wav/09_The_Word_no_drum.wav\n",
      "[info] file 10:  10_Free_As_A_Bird_all_tracks.mid\n",
      "wav_fname_nodrum:  ./pre_processed_data/proc_no_drum_wav/10_Free_As_A_Bird_no_drum.wav\n",
      "midi_fname_nodrum:  ./pre_processed_data/proc_no_drum_mid/10_Free_As_A_Bird_no_drum.mid\n",
      "input_midi:  ./pre_processed_data/proc_no_drum_mid/10_Free_As_A_Bird_no_drum.mid\n",
      "tmp_fname:  10_Free_As_A_Bird_no_drum_tmp_150153.wav\n",
      "MIDI to Audio transfer is done, synthesized file name: ./pre_processed_data/proc_no_drum_wav/10_Free_As_A_Bird_no_drum.wav\n",
      "[info] file 11:  11_Hey_Jude_all_tracks.mid\n",
      "wav_fname_nodrum:  ./pre_processed_data/proc_no_drum_wav/11_Hey_Jude_no_drum.wav\n",
      "midi_fname_nodrum:  ./pre_processed_data/proc_no_drum_mid/11_Hey_Jude_no_drum.mid\n",
      "input_midi:  ./pre_processed_data/proc_no_drum_mid/11_Hey_Jude_no_drum.mid\n",
      "tmp_fname:  11_Hey_Jude_no_drum_tmp_150206.wav\n",
      "MIDI to Audio transfer is done, synthesized file name: ./pre_processed_data/proc_no_drum_wav/11_Hey_Jude_no_drum.wav\n",
      "[info] file 12:  12_Little_Child_all_tracks.mid\n",
      "wav_fname_nodrum:  ./pre_processed_data/proc_no_drum_wav/12_Little_Child_no_drum.wav\n",
      "midi_fname_nodrum:  ./pre_processed_data/proc_no_drum_mid/12_Little_Child_no_drum.mid\n",
      "input_midi:  ./pre_processed_data/proc_no_drum_mid/12_Little_Child_no_drum.mid\n",
      "tmp_fname:  12_Little_Child_no_drum_tmp_150221.wav\n",
      "MIDI to Audio transfer is done, synthesized file name: ./pre_processed_data/proc_no_drum_wav/12_Little_Child_no_drum.wav\n",
      "[info] file 13:  13_Hey_Bulldog_all_tracks.mid\n",
      "wav_fname_nodrum:  ./pre_processed_data/proc_no_drum_wav/13_Hey_Bulldog_no_drum.wav\n",
      "midi_fname_nodrum:  ./pre_processed_data/proc_no_drum_mid/13_Hey_Bulldog_no_drum.mid\n",
      "input_midi:  ./pre_processed_data/proc_no_drum_mid/13_Hey_Bulldog_no_drum.mid\n",
      "tmp_fname:  13_Hey_Bulldog_no_drum_tmp_150228.wav\n",
      "MIDI to Audio transfer is done, synthesized file name: ./pre_processed_data/proc_no_drum_wav/13_Hey_Bulldog_no_drum.wav\n",
      "[info] file 14:  14_Lovely_Rita_all_tracks.mid\n",
      "wav_fname_nodrum:  ./pre_processed_data/proc_no_drum_wav/14_Lovely_Rita_no_drum.wav\n",
      "midi_fname_nodrum:  ./pre_processed_data/proc_no_drum_mid/14_Lovely_Rita_no_drum.mid\n",
      "input_midi:  ./pre_processed_data/proc_no_drum_mid/14_Lovely_Rita_no_drum.mid\n",
      "tmp_fname:  14_Lovely_Rita_no_drum_tmp_150235.wav\n",
      "MIDI to Audio transfer is done, synthesized file name: ./pre_processed_data/proc_no_drum_wav/14_Lovely_Rita_no_drum.wav\n",
      "[info] file 15:  15_The_Night_Before_all_tracks.mid\n",
      "wav_fname_nodrum:  ./pre_processed_data/proc_no_drum_wav/15_The_Night_Before_no_drum.wav\n",
      "midi_fname_nodrum:  ./pre_processed_data/proc_no_drum_mid/15_The_Night_Before_no_drum.mid\n",
      "input_midi:  ./pre_processed_data/proc_no_drum_mid/15_The_Night_Before_no_drum.mid\n",
      "tmp_fname:  15_The_Night_Before_no_drum_tmp_150241.wav\n",
      "MIDI to Audio transfer is done, synthesized file name: ./pre_processed_data/proc_no_drum_wav/15_The_Night_Before_no_drum.wav\n",
      "[info] file 16:  16_From_Me_To_You_all_tracks.mid\n",
      "wav_fname_nodrum:  ./pre_processed_data/proc_no_drum_wav/16_From_Me_To_You_no_drum.wav\n",
      "midi_fname_nodrum:  ./pre_processed_data/proc_no_drum_mid/16_From_Me_To_You_no_drum.mid\n",
      "input_midi:  ./pre_processed_data/proc_no_drum_mid/16_From_Me_To_You_no_drum.mid\n",
      "tmp_fname:  16_From_Me_To_You_no_drum_tmp_150248.wav\n",
      "MIDI to Audio transfer is done, synthesized file name: ./pre_processed_data/proc_no_drum_wav/16_From_Me_To_You_no_drum.wav\n",
      "[info] file 17:  17_Roll_Over_Beethoven_all_tracks.mid\n",
      "wav_fname_nodrum:  ./pre_processed_data/proc_no_drum_wav/17_Roll_Over_Beethoven_no_drum.wav\n",
      "midi_fname_nodrum:  ./pre_processed_data/proc_no_drum_mid/17_Roll_Over_Beethoven_no_drum.mid\n",
      "input_midi:  ./pre_processed_data/proc_no_drum_mid/17_Roll_Over_Beethoven_no_drum.mid\n",
      "tmp_fname:  17_Roll_Over_Beethoven_no_drum_tmp_150254.wav\n",
      "MIDI to Audio transfer is done, synthesized file name: ./pre_processed_data/proc_no_drum_wav/17_Roll_Over_Beethoven_no_drum.wav\n",
      "[info] file 18:  18_Come_Together_all_tracks.mid\n",
      "wav_fname_nodrum:  ./pre_processed_data/proc_no_drum_wav/18_Come_Together_no_drum.wav\n",
      "midi_fname_nodrum:  ./pre_processed_data/proc_no_drum_mid/18_Come_Together_no_drum.mid\n",
      "input_midi:  ./pre_processed_data/proc_no_drum_mid/18_Come_Together_no_drum.mid\n",
      "tmp_fname:  18_Come_Together_no_drum_tmp_150301.wav\n"
     ]
    },
    {
     "name": "stdout",
     "output_type": "stream",
     "text": [
      "MIDI to Audio transfer is done, synthesized file name: ./pre_processed_data/proc_no_drum_wav/18_Come_Together_no_drum.wav\n",
      "[info] file 19:  19_Babys_In_Black_all_tracks.mid\n",
      "wav_fname_nodrum:  ./pre_processed_data/proc_no_drum_wav/19_Babys_In_Black_no_drum.wav\n",
      "midi_fname_nodrum:  ./pre_processed_data/proc_no_drum_mid/19_Babys_In_Black_no_drum.mid\n",
      "input_midi:  ./pre_processed_data/proc_no_drum_mid/19_Babys_In_Black_no_drum.mid\n",
      "tmp_fname:  19_Babys_In_Black_no_drum_tmp_150307.wav\n",
      "MIDI to Audio transfer is done, synthesized file name: ./pre_processed_data/proc_no_drum_wav/19_Babys_In_Black_no_drum.wav\n",
      "[info] file 20:  21_Michael_Jackson_-_Bad_all_tracks.mid\n",
      "wav_fname_nodrum:  ./pre_processed_data/proc_no_drum_wav/21_Michael_Jackson_-_Bad_no_drum.wav\n",
      "midi_fname_nodrum:  ./pre_processed_data/proc_no_drum_mid/21_Michael_Jackson_-_Bad_no_drum.mid\n",
      "input_midi:  ./pre_processed_data/proc_no_drum_mid/21_Michael_Jackson_-_Bad_no_drum.mid\n",
      "tmp_fname:  21_Michael_Jackson_-_Bad_no_drum_tmp_150315.wav\n",
      "MIDI to Audio transfer is done, synthesized file name: ./pre_processed_data/proc_no_drum_wav/21_Michael_Jackson_-_Bad_no_drum.wav\n",
      "[info] file 21:  22_Michael_Jackson_-_Billie_Jean_all_tracks.mid\n",
      "wav_fname_nodrum:  ./pre_processed_data/proc_no_drum_wav/22_Michael_Jackson_-_Billie_Jean_no_drum.wav\n",
      "midi_fname_nodrum:  ./pre_processed_data/proc_no_drum_mid/22_Michael_Jackson_-_Billie_Jean_no_drum.mid\n",
      "input_midi:  ./pre_processed_data/proc_no_drum_mid/22_Michael_Jackson_-_Billie_Jean_no_drum.mid\n",
      "tmp_fname:  22_Michael_Jackson_-_Billie_Jean_no_drum_tmp_150324.wav\n",
      "MIDI to Audio transfer is done, synthesized file name: ./pre_processed_data/proc_no_drum_wav/22_Michael_Jackson_-_Billie_Jean_no_drum.wav\n",
      "[info] file 22:  23_Michael_Jackson_-_Man_In_The_Mirror_all_tracks.mid\n",
      "wav_fname_nodrum:  ./pre_processed_data/proc_no_drum_wav/23_Michael_Jackson_-_Man_In_The_Mirror_no_drum.wav\n",
      "midi_fname_nodrum:  ./pre_processed_data/proc_no_drum_mid/23_Michael_Jackson_-_Man_In_The_Mirror_no_drum.mid\n",
      "input_midi:  ./pre_processed_data/proc_no_drum_mid/23_Michael_Jackson_-_Man_In_The_Mirror_no_drum.mid\n",
      "tmp_fname:  23_Michael_Jackson_-_Man_In_The_Mirror_no_drum_tmp_150333.wav\n",
      "MIDI to Audio transfer is done, synthesized file name: ./pre_processed_data/proc_no_drum_wav/23_Michael_Jackson_-_Man_In_The_Mirror_no_drum.wav\n",
      "[info] file 23:  24_Michael_Jackson_-_Smooth_Criminal_all_tracks.mid\n",
      "wav_fname_nodrum:  ./pre_processed_data/proc_no_drum_wav/24_Michael_Jackson_-_Smooth_Criminal_no_drum.wav\n",
      "midi_fname_nodrum:  ./pre_processed_data/proc_no_drum_mid/24_Michael_Jackson_-_Smooth_Criminal_no_drum.mid\n",
      "input_midi:  ./pre_processed_data/proc_no_drum_mid/24_Michael_Jackson_-_Smooth_Criminal_no_drum.mid\n",
      "tmp_fname:  24_Michael_Jackson_-_Smooth_Criminal_no_drum_tmp_150343.wav\n",
      "MIDI to Audio transfer is done, synthesized file name: ./pre_processed_data/proc_no_drum_wav/24_Michael_Jackson_-_Smooth_Criminal_no_drum.wav\n",
      "[info] file 24:  25_Michael_Jackson_-_Beat_It_all_tracks.mid\n",
      "wav_fname_nodrum:  ./pre_processed_data/proc_no_drum_wav/25_Michael_Jackson_-_Beat_It_no_drum.wav\n",
      "midi_fname_nodrum:  ./pre_processed_data/proc_no_drum_mid/25_Michael_Jackson_-_Beat_It_no_drum.mid\n",
      "input_midi:  ./pre_processed_data/proc_no_drum_mid/25_Michael_Jackson_-_Beat_It_no_drum.mid\n",
      "tmp_fname:  25_Michael_Jackson_-_Beat_It_no_drum_tmp_150351.wav\n",
      "MIDI to Audio transfer is done, synthesized file name: ./pre_processed_data/proc_no_drum_wav/25_Michael_Jackson_-_Beat_It_no_drum.wav\n",
      "\n",
      "[info] All 24 files are processed.\n"
     ]
    }
   ],
   "source": [
    "midi_obj_list = []\n",
    "\n",
    "total_files = len(all_tracks_mid_flist)\n",
    "#total_files = 1\n",
    "\n",
    "for file_idx in range(0, total_files):\n",
    "\n",
    "    midi_fname = all_tracks_mid_flist[file_idx]\n",
    "    print ('[info] file {:2d}:  {}'.format(file_idx+1, midi_fname.split('/')[-1]))\n",
    "    \n",
    "    midi_data1_mt = get_merged_mt(Multitrack(midi_fname))\n",
    "    midi_data1 = midi_data1_mt.to_pretty_midi()\n",
    "    \n",
    "    midi_fname = no_drum_mid_flist[file_idx]\n",
    "    #print (midi_fname)\n",
    "    midi_data2_mt = get_merged_mt(Multitrack(midi_fname))\n",
    "    midi_data2 = midi_data2_mt.to_pretty_midi()\n",
    "    \n",
    "    midi_fname = drum_only_mid_flist[file_idx]\n",
    "    #print (midi_fname)\n",
    "    midi_data3_mt = get_merged_mt(Multitrack(midi_fname))\n",
    "    midi_data3 = midi_data3_mt.to_pretty_midi()\n",
    "\n",
    "    # make sure all beat is the same\n",
    "    all_beat_period = np.sort(midi_data1.get_downbeats()[1:] - midi_data1.get_downbeats()[:-1])\n",
    "    all_beat_period_avg = np.mean(all_beat_period)\n",
    "    assert abs((all_beat_period[0] - all_beat_period_avg)/all_beat_period_avg) < 0.05\n",
    "    assert abs((all_beat_period[-1] - all_beat_period_avg)/all_beat_period_avg) < 0.05\n",
    "    \n",
    "    # make sure all tracks are the longest\n",
    "    assert (midi_data1.get_end_time()>=midi_data2.get_end_time())\n",
    "    assert (midi_data1.get_end_time()>=midi_data3.get_end_time())\n",
    "    \n",
    "    \n",
    "    # init midi object\n",
    "    midi_track_obj = midi_track()\n",
    "    midi_track_obj.file_name = all_tracks_mid_flist[file_idx]\n",
    "    midi_track_obj.pmidi_data = copy.deepcopy(midi_data1)    \n",
    "    midi_track_obj.pmidi_all_tracks_data = copy.deepcopy(midi_data1)\n",
    "    midi_track_obj.pmidi_no_drum_data = copy.deepcopy(midi_data1)\n",
    "    midi_track_obj.pmidi_drum_only_data = copy.deepcopy(midi_data1)\n",
    "    \n",
    "    # get song tempo\n",
    "    beats_list = midi_track_obj.pmidi_data.get_beats().tolist()\n",
    "    midi_track_obj.tempo = np.round(60./np.mean(np.array(beats_list[1:]) - np.array(beats_list[:-1])), 2)\n",
    "    \n",
    "    # get fixed downbeats data\n",
    "    downbeats_list = midi_track_obj.pmidi_data.get_downbeats().tolist()\n",
    "    \n",
    "    bar_portion = 96\n",
    "    basic_time_unit = np.mean(np.array(downbeats_list[1:]) - np.array(downbeats_list[:-1]))/bar_portion\n",
    "    \n",
    "    # calculate downbeat time range\n",
    "    downbeats_range_p = np.array(copy.deepcopy(downbeats_list)) + basic_time_unit*0.5\n",
    "    downbeats_range_n = np.array(copy.deepcopy(downbeats_list)) - basic_time_unit*0.5\n",
    "    downbeats_range = np.vstack([downbeats_range_n, downbeats_range_p])\n",
    "    downbeats_range[downbeats_range<0] = 0 \n",
    "    downbeats_range_cnt = np.zeros(downbeats_range.shape[1])\n",
    "    downbeats_range_p1_cnt = np.zeros(downbeats_range.shape[1])\n",
    "    downbeats_range_n1_cnt = np.zeros(downbeats_range.shape[1])\n",
    "\n",
    "    downbeats_range_num = len(downbeats_list)\n",
    "    \n",
    "    for inst_idx in range(0, len(midi_track_obj.pmidi_data.instruments)):\n",
    "        for note_data in midi_track_obj.pmidi_data.instruments[inst_idx].notes:\n",
    "            note_onset = note_data.start\n",
    "            range_found = 0\n",
    "            # check note in standard downbeats_range\n",
    "            for beat_range_idx in range(0, downbeats_range_num):\n",
    "                range_start = downbeats_range[0, beat_range_idx]\n",
    "                range_end = downbeats_range[1, beat_range_idx]\n",
    "                if note_onset>=range_start and note_onset<range_end:\n",
    "                    downbeats_range_cnt[beat_range_idx] += 1\n",
    "                    range_found = 1\n",
    "                    break\n",
    "\n",
    "            if (range_found==1):\n",
    "                continue\n",
    "                \n",
    "            # check note in standard downbeats_range + 1 basic time unit\n",
    "            for beat_range_idx in range(0, downbeats_range_num):\n",
    "                range_start = downbeats_range[0, beat_range_idx] + basic_time_unit\n",
    "                range_end = downbeats_range[1, beat_range_idx] + basic_time_unit\n",
    "                if note_onset>=range_start and note_onset<range_end:\n",
    "                    downbeats_range_p1_cnt[beat_range_idx] += 1\n",
    "                    range_found = 1\n",
    "                    break         \n",
    "            \n",
    "            if (range_found==1):\n",
    "                continue        \n",
    "        \n",
    "            # check note in standard downbeats_range - 1 basic time unit\n",
    "            for beat_range_idx in range(0, downbeats_range_num):\n",
    "                range_start = downbeats_range[0, beat_range_idx] - basic_time_unit\n",
    "                range_end = downbeats_range[1, beat_range_idx] - basic_time_unit\n",
    "                if note_onset>=range_start and note_onset<range_end:\n",
    "                    downbeats_range_n1_cnt[beat_range_idx] += 1\n",
    "                    break \n",
    "    \n",
    "    # calculate downbeat shift\n",
    "    downbeats_range_shift = np.zeros([downbeats_range_n1_cnt.shape[0]])\n",
    "\n",
    "    for x in range(downbeats_range_n1_cnt.shape[0]):\n",
    "        if max([downbeats_range_p1_cnt[x], downbeats_range_n1_cnt[x]]) > downbeats_range_cnt[x]:\n",
    "            if downbeats_range_p1_cnt[x] > downbeats_range_n1_cnt[x]:\n",
    "                downbeats_range_shift[x] = 1\n",
    "            else:\n",
    "                downbeats_range_shift[x] = -1\n",
    "                \n",
    "    # fix downbeats_list\n",
    "    downbeats_list_fixed = np.array(copy.deepcopy(downbeats_list)) + downbeats_range_shift*basic_time_unit\n",
    "    downbeats_list_fixed[downbeats_list_fixed<0] = 0\n",
    "    downbeats_list_fixed = downbeats_list_fixed.tolist()\n",
    "    \n",
    "\n",
    "    \n",
    "    # calculate bar_range_list using downbeats_list_fixed\n",
    "    bar_range_list_fixed = []\n",
    "    for beat_idx in range(0, len(downbeats_list_fixed)-1):\n",
    "        beat_period = downbeats_list_fixed[beat_idx+1] - downbeats_list_fixed[beat_idx]\n",
    "        \n",
    "        basic_unit = beat_period/bar_portion\n",
    "        bar_start = max(downbeats_list_fixed[beat_idx] - basic_unit/2., 0)\n",
    "        bar_end = min(downbeats_list_fixed[beat_idx+1] - basic_unit/2., downbeats_list_fixed[len(downbeats_list_fixed)-1])\n",
    "        \n",
    "        bar_range_list_fixed.append([bar_start, bar_end])\n",
    "    \n",
    "    #define function to process note\n",
    "    def check_note_in_bar(cnib_note_time, cnib_bar_range_list):\n",
    "        if cnib_note_time>=cnib_bar_range_list[0][0] and cnib_note_time<cnib_bar_range_list[-1][-1]:\n",
    "            return(True)\n",
    "        else:\n",
    "            return(False)\n",
    "\n",
    "    def get_bar_num(gbn_note_time, gbn_bar_range_list):\n",
    "        for bar_idx in range(0, len(gbn_bar_range_list)):\n",
    "            if gbn_note_time>=gbn_bar_range_list[bar_idx][0] and gbn_note_time<gbn_bar_range_list[bar_idx][1]:\n",
    "                return(bar_idx)\n",
    "            \n",
    "    def get_beat_num(gbtn_note_time, gbtn_bar_num, gbtn_downbeats_list):\n",
    "        time_plus_in_bar = gbtn_note_time - gbtn_downbeats_list[gbtn_bar_num]\n",
    "        time_plus_in_bar_q = time_plus_in_bar/((gbtn_downbeats_list[gbtn_bar_num+1] - gbtn_downbeats_list[gbtn_bar_num])/bar_portion)\n",
    "        time_plus_in_bar_q = np.round(time_plus_in_bar_q).astype(int)\n",
    "        return (time_plus_in_bar_q)\n",
    "        \n",
    "    def get_bar_beat(gbb_note_time, gbb_downbeats_list, gbb_bar_range_list):\n",
    "        note_bar_tmp = get_bar_num(gbb_note_time, gbb_bar_range_list)\n",
    "        note_beat_tmp = get_beat_num(gbb_note_time, note_bar_tmp, gbb_downbeats_list)\n",
    "        return(note_bar_tmp, note_beat_tmp)\n",
    "    \n",
    "    # put all drum note into bar list\n",
    "    # create empty list[ ary, ary, ary... ]\n",
    "    drum_bar_list = []\n",
    "    for drum_bar_idx in range(0, len(bar_range_list_fixed)):\n",
    "        bar_note_ary = np.zeros([128, bar_portion])\n",
    "        drum_bar_list.append(bar_note_ary)\n",
    "        \n",
    "    \n",
    "    # get drum instrument index\n",
    "    durm_inst_idx_list = []\n",
    "    for Instrument_idx in range(len(midi_data1.instruments)):\n",
    "        if midi_data1.instruments[Instrument_idx].is_drum==True:\n",
    "            durm_inst_idx_list.append(Instrument_idx)       \n",
    "    assert (len(durm_inst_idx_list)==1)\n",
    "    durm_inst_idx = durm_inst_idx_list[0]\n",
    "    \n",
    "    # put note into drum_bar_list\n",
    "    for note_data in midi_track_obj.pmidi_data.instruments[durm_inst_idx].notes:\n",
    "        \n",
    "        note_onset = note_data.start\n",
    "        note_pitch = note_data.pitch\n",
    "        note_velocity = note_data.velocity\n",
    "        \n",
    "        if check_note_in_bar(note_onset, bar_range_list_fixed):\n",
    "            note_bar_0, note_beat_0 = get_bar_beat(note_onset, downbeats_list_fixed, bar_range_list_fixed)        \n",
    "            \n",
    "            drum_bar_list[note_bar_0][note_pitch, note_beat_0] = note_velocity\n",
    "\n",
    "    # save downbeats_list_fixed\n",
    "    midi_track_obj.downbeats_list_fixed = copy.deepcopy(downbeats_list_fixed)\n",
    "    \n",
    "    # save bar_range_list_fixed\n",
    "    midi_track_obj.bar_range_list_fixed = copy.deepcopy(bar_range_list_fixed)\n",
    "    \n",
    "    # save drum bar and notes\n",
    "    midi_track_obj.drum_bar_list = copy.deepcopy(drum_bar_list)\n",
    "    midi_track_obj.drum_bar_list_bin = copy.deepcopy(drum_bar_list)\n",
    "    \n",
    "    # make note with > 0 value = 1.0\n",
    "    for bar_idx in range(0, len(midi_track_obj.drum_bar_list_bin)):\n",
    "        midi_track_obj.drum_bar_list_bin[bar_idx][midi_track_obj.drum_bar_list_bin[bar_idx]>=0.5] = 1.0\n",
    "        midi_track_obj.drum_bar_list_bin[bar_idx][midi_track_obj.drum_bar_list_bin[bar_idx]<0.5] = 0.0\n",
    "    \n",
    "        # save note count\n",
    "        midi_track_obj.drum_bar_note_num.append(np.round(np.sum(midi_track_obj.drum_bar_list_bin[bar_idx])).astype(int))\n",
    "    \n",
    "    \n",
    "    # save all_tracks_file_name\n",
    "    midi_fname_nodrum = './pre_processed_data/proc_all_tracks_mid/{}_all_tracks.mid'.format(midi_track_obj.file_name.split('/')[-1][:-15])\n",
    "    ensure_dir(midi_fname_nodrum)\n",
    "    midi_track_obj.pmidi_all_tracks_data.write(midi_fname_nodrum)\n",
    "    #os.system('chown -R sma1033:sma1033 {}'.format(midi_fname_nodrum))\n",
    "    \n",
    "    \n",
    "    # set drum track note velocity=0\n",
    "    for inst_idx in range(len(midi_track_obj.pmidi_no_drum_data.instruments)):\n",
    "        if inst_idx==durm_inst_idx:\n",
    "            for note in midi_track_obj.pmidi_no_drum_data.instruments[inst_idx].notes:        \n",
    "                note.velocity = 0\n",
    "                                    \n",
    "    # save no_drum_midi_file_name\n",
    "    midi_fname_nodrum = './pre_processed_data/proc_no_drum_mid/{}_no_drum.mid'.format(midi_track_obj.file_name.split('/')[-1][:-15])\n",
    "    ensure_dir(midi_fname_nodrum)\n",
    "    midi_track_obj.pmidi_no_drum_data.write(midi_fname_nodrum)\n",
    "    #os.system('chown -R sma1033:sma1033 {}'.format(midi_fname_nodrum))\n",
    "    \n",
    "    wav_fname_nodrum = './pre_processed_data/proc_no_drum_wav/{}_no_drum.wav'.format(midi_track_obj.file_name.split('/')[-1][:-15])\n",
    "    ensure_dir(wav_fname_nodrum)\n",
    "    print(\"wav_fname_nodrum: \", wav_fname_nodrum)\n",
    "    print(\"midi_fname_nodrum: \", midi_fname_nodrum)\n",
    "    syn_midi(midi_fname_nodrum, wav_fname_nodrum, 44100)\n",
    "    #os.system('chown -R sma1033:sma1033 {}'.format(wav_fname_nodrum))\n",
    "    \n",
    "    \n",
    "    # set Not drum track note velocity=0\n",
    "    for inst_idx in range(len(midi_track_obj.pmidi_drum_only_data.instruments)):\n",
    "        if inst_idx!=durm_inst_idx:\n",
    "            for note in midi_track_obj.pmidi_drum_only_data.instruments[inst_idx].notes:        \n",
    "                note.velocity = 0\n",
    "                \n",
    "    # save no_drum_midi_file_name\n",
    "    midi_fname_nodrum = './pre_processed_data/proc_drum_only_mid/{}_drum_only.mid'.format(midi_track_obj.file_name.split('/')[-1][:-15])\n",
    "    ensure_dir(midi_fname_nodrum)\n",
    "    midi_track_obj.pmidi_drum_only_data.write(midi_fname_nodrum)\n",
    "    #os.system('chown -R sma1033:sma1033 {}'.format(midi_fname_nodrum))\n",
    "\n",
    "\n",
    "    # save midi obj into a list\n",
    "    midi_obj_list.append(midi_track_obj)\n",
    "    \n",
    "    \n",
    "print ('\\n[info] All {} files are processed.'.format(total_files))\n",
    "\n",
    "obj_file_name = './pre_processed_data/proc_midi_object.pkl'\n",
    "ensure_dir(obj_file_name)\n",
    "with open(obj_file_name, 'wb') as pkl_file:\n",
    "    pickle.dump(midi_obj_list, pkl_file)"
   ]
  },
  {
   "cell_type": "markdown",
   "metadata": {
    "scrolled": true
   },
   "source": [
    "# Extract MIDI file beat/bar information"
   ]
  },
  {
   "cell_type": "code",
   "execution_count": 85,
   "metadata": {
    "scrolled": true
   },
   "outputs": [
    {
     "name": "stdout",
     "output_type": "stream",
     "text": [
      "Song: 0 done, total bars: 101\n",
      "Song: 1 done, total bars: 81\n",
      "Song: 2 done, total bars: 91\n",
      "Song: 3 done, total bars: 94\n",
      "Song: 4 done, total bars: 86\n",
      "Song: 5 done, total bars: 84\n",
      "Song: 6 done, total bars: 101\n",
      "Song: 7 done, total bars: 91\n",
      "Song: 8 done, total bars: 88\n",
      "Song: 9 done, total bars: 79\n",
      "Song: 10 done, total bars: 140\n",
      "Song: 11 done, total bars: 68\n",
      "Song: 12 done, total bars: 74\n",
      "Song: 13 done, total bars: 62\n",
      "Song: 14 done, total bars: 109\n",
      "Song: 15 done, total bars: 67\n",
      "Song: 16 done, total bars: 111\n",
      "Song: 17 done, total bars: 95\n",
      "Song: 18 done, total bars: 52\n",
      "Song: 19 done, total bars: 118\n",
      "Song: 20 done, total bars: 140\n",
      "Song: 21 done, total bars: 133\n",
      "Song: 22 done, total bars: 100\n",
      "Song: 23 done, total bars: 146\n",
      "\n",
      "All 24 songs process done.\n"
     ]
    }
   ],
   "source": [
    "# reload processed MIDI object\n",
    "obj_file_name = './pre_processed_data/proc_midi_object.pkl'\n",
    "with open(obj_file_name, 'rb') as pkl_file:\n",
    "    midi_obj_list_reload = pickle.load(pkl_file)\n",
    "\n",
    "\n",
    "# create empty list to store beat/bar info.\n",
    "song_bar_grid_range_list = []\n",
    "\n",
    "total_songs = len(midi_obj_list_reload)\n",
    "\n",
    "for file_idx in range(0, total_songs):\n",
    "\n",
    "    # load downbeat data\n",
    "    song_downbeats_list_fixed = midi_obj_list_reload[file_idx].downbeats_list_fixed\n",
    "    song_bar_range_list_fixed = midi_obj_list_reload[file_idx].bar_range_list_fixed\n",
    "\n",
    "    bar_resolution = 96\n",
    "\n",
    "    bar_grid_range_list = []\n",
    "\n",
    "    beat_num = len(song_downbeats_list_fixed) - 1\n",
    "\n",
    "    for beat_idx in range(0, beat_num):\n",
    "        bar_start_edge = song_downbeats_list_fixed[beat_idx]\n",
    "        bar_end_edge = song_downbeats_list_fixed[beat_idx+1]\n",
    "        time_grid = np.linspace(bar_start_edge, bar_end_edge, bar_resolution+1)\n",
    "\n",
    "        bar_grid_range = np.zeros([bar_resolution, 2])\n",
    "\n",
    "        bar_grid_range[:, 0] = time_grid[ :-1]\n",
    "        bar_grid_range[:, 1] = time_grid[ 1: ]\n",
    "        bar_grid_range -= ((time_grid[-1] - time_grid[0])/bar_resolution)*0.5\n",
    "        bar_grid_range[bar_grid_range<0] = 0\n",
    "\n",
    "        bar_grid_range_list.append(copy.copy(bar_grid_range))\n",
    "\n",
    "    print ('Song: {} done, total bars: {}'.format(file_idx, len(bar_grid_range_list)))\n",
    "\n",
    "    song_bar_grid_range_list.append(copy.copy(bar_grid_range_list))\n",
    "\n",
    "print ('\\nAll {} songs process done.'.format(total_songs))"
   ]
  },
  {
   "cell_type": "markdown",
   "metadata": {},
   "source": [
    "# Check Processed beat/bar data"
   ]
  },
  {
   "cell_type": "code",
   "execution_count": 86,
   "metadata": {
    "scrolled": true
   },
   "outputs": [
    {
     "name": "stdout",
     "output_type": "stream",
     "text": [
      "[[ 99.98958333 100.01041667]\n",
      " [100.01041667 100.03125   ]\n",
      " [100.03125    100.05208333]\n",
      " [100.05208333 100.07291667]\n",
      " [100.07291667 100.09375   ]\n",
      " [100.09375    100.11458333]\n",
      " [100.11458333 100.13541667]\n",
      " [100.13541667 100.15625   ]\n",
      " [100.15625    100.17708333]\n",
      " [100.17708333 100.19791667]\n",
      " [100.19791667 100.21875   ]\n",
      " [100.21875    100.23958333]\n",
      " [100.23958333 100.26041667]\n",
      " [100.26041667 100.28125   ]\n",
      " [100.28125    100.30208333]\n",
      " [100.30208333 100.32291667]\n",
      " [100.32291667 100.34375   ]\n",
      " [100.34375    100.36458333]\n",
      " [100.36458333 100.38541667]\n",
      " [100.38541667 100.40625   ]\n",
      " [100.40625    100.42708333]\n",
      " [100.42708333 100.44791667]\n",
      " [100.44791667 100.46875   ]\n",
      " [100.46875    100.48958333]\n",
      " [100.48958333 100.51041667]\n",
      " [100.51041667 100.53125   ]\n",
      " [100.53125    100.55208333]\n",
      " [100.55208333 100.57291667]\n",
      " [100.57291667 100.59375   ]\n",
      " [100.59375    100.61458333]\n",
      " [100.61458333 100.63541667]\n",
      " [100.63541667 100.65625   ]\n",
      " [100.65625    100.67708333]\n",
      " [100.67708333 100.69791667]\n",
      " [100.69791667 100.71875   ]\n",
      " [100.71875    100.73958333]\n",
      " [100.73958333 100.76041667]\n",
      " [100.76041667 100.78125   ]\n",
      " [100.78125    100.80208333]\n",
      " [100.80208333 100.82291667]\n",
      " [100.82291667 100.84375   ]\n",
      " [100.84375    100.86458333]\n",
      " [100.86458333 100.88541667]\n",
      " [100.88541667 100.90625   ]\n",
      " [100.90625    100.92708333]\n",
      " [100.92708333 100.94791667]\n",
      " [100.94791667 100.96875   ]\n",
      " [100.96875    100.98958333]\n",
      " [100.98958333 101.01041667]\n",
      " [101.01041667 101.03125   ]\n",
      " [101.03125    101.05208333]\n",
      " [101.05208333 101.07291667]\n",
      " [101.07291667 101.09375   ]\n",
      " [101.09375    101.11458333]\n",
      " [101.11458333 101.13541667]\n",
      " [101.13541667 101.15625   ]\n",
      " [101.15625    101.17708333]\n",
      " [101.17708333 101.19791667]\n",
      " [101.19791667 101.21875   ]\n",
      " [101.21875    101.23958333]\n",
      " [101.23958333 101.26041667]\n",
      " [101.26041667 101.28125   ]\n",
      " [101.28125    101.30208333]\n",
      " [101.30208333 101.32291667]\n",
      " [101.32291667 101.34375   ]\n",
      " [101.34375    101.36458333]\n",
      " [101.36458333 101.38541667]\n",
      " [101.38541667 101.40625   ]\n",
      " [101.40625    101.42708333]\n",
      " [101.42708333 101.44791667]\n",
      " [101.44791667 101.46875   ]\n",
      " [101.46875    101.48958333]\n",
      " [101.48958333 101.51041667]\n",
      " [101.51041667 101.53125   ]\n",
      " [101.53125    101.55208333]\n",
      " [101.55208333 101.57291667]\n",
      " [101.57291667 101.59375   ]\n",
      " [101.59375    101.61458333]\n",
      " [101.61458333 101.63541667]\n",
      " [101.63541667 101.65625   ]\n",
      " [101.65625    101.67708333]\n",
      " [101.67708333 101.69791667]\n",
      " [101.69791667 101.71875   ]\n",
      " [101.71875    101.73958333]\n",
      " [101.73958333 101.76041667]\n",
      " [101.76041667 101.78125   ]\n",
      " [101.78125    101.80208333]\n",
      " [101.80208333 101.82291667]\n",
      " [101.82291667 101.84375   ]\n",
      " [101.84375    101.86458333]\n",
      " [101.86458333 101.88541667]\n",
      " [101.88541667 101.90625   ]\n",
      " [101.90625    101.92708333]\n",
      " [101.92708333 101.94791667]\n",
      " [101.94791667 101.96875   ]\n",
      " [101.96875    101.98958333]]\n"
     ]
    }
   ],
   "source": [
    "file_idx = 10\n",
    "bar_idx = 50\n",
    "bar_grid_range = copy.copy(song_bar_grid_range_list[file_idx][bar_idx])\n",
    "print(bar_grid_range)"
   ]
  },
  {
   "cell_type": "markdown",
   "metadata": {},
   "source": [
    "# save processed bar range information"
   ]
  },
  {
   "cell_type": "code",
   "execution_count": 87,
   "metadata": {},
   "outputs": [
    {
     "name": "stdout",
     "output_type": "stream",
     "text": [
      "File is saved.\n"
     ]
    }
   ],
   "source": [
    "file_name = './pre_processed_data/proc_midi_beat_bar_info_list.pkl'\n",
    "with open(file_name, 'wb') as pkl_file:\n",
    "    pickle.dump(song_bar_grid_range_list, pkl_file)\n",
    "print ('File is saved.')"
   ]
  },
  {
   "cell_type": "code",
   "execution_count": null,
   "metadata": {},
   "outputs": [],
   "source": []
  },
  {
   "cell_type": "markdown",
   "metadata": {},
   "source": [
    "# read wav file names"
   ]
  },
  {
   "cell_type": "code",
   "execution_count": 88,
   "metadata": {},
   "outputs": [
    {
     "name": "stdout",
     "output_type": "stream",
     "text": [
      "Total files: 24\n",
      "./pre_processed_data/proc_no_drum_wav/01_A_Hard_Days_Night_no_drum.wav\n",
      "./pre_processed_data/proc_no_drum_wav/02_Anna_no_drum.wav\n",
      "./pre_processed_data/proc_no_drum_wav/03_Back_In_The_USSR_no_drum.wav\n"
     ]
    }
   ],
   "source": [
    "no_drum_wav_flist = np.sort(glob.glob('./pre_processed_data/proc_no_drum_wav/*.wav', recursive=True)).tolist()\n",
    "print ('Total files: {}'.format(len(no_drum_wav_flist)))\n",
    "for x in no_drum_wav_flist[:3]: print (x)"
   ]
  },
  {
   "cell_type": "markdown",
   "metadata": {},
   "source": [
    "# define function to get CQT data"
   ]
  },
  {
   "cell_type": "code",
   "execution_count": 89,
   "metadata": {},
   "outputs": [],
   "source": [
    "def get_cqt_data(input_wav_file):\n",
    "\n",
    "    audio_data, samp_rate = librosa.load(input_wav_file, sr=44100, mono=True)\n",
    "    audio_len = float(len(audio_data)) / float(samp_rate)\n",
    "    audio_data_cqt = librosa.amplitude_to_db(np.abs(librosa.cqt(audio_data, sr=samp_rate,  hop_length=256)), ref=np.max)\n",
    "    audio_cqt_fps = audio_data_cqt.shape[1] / audio_len\n",
    "\n",
    "    return (audio_data_cqt, audio_cqt_fps)\n",
    "\n",
    "def get_hybird_cqt_data(input_wav_file):\n",
    "\n",
    "    audio_data, samp_rate = librosa.load(input_wav_file, sr=44100, mono=True)\n",
    "    audio_len = float(len(audio_data)) / float(samp_rate) # sec\n",
    "    audio_data_hybird_cqt = librosa.amplitude_to_db(np.abs(librosa.hybrid_cqt(audio_data, sr=samp_rate, hop_length=256)), ref=np.max)\n",
    "    audio_hybird_cqt_fps = audio_data_hybird_cqt.shape[1] / audio_len\n",
    "\n",
    "    return (audio_data_hybird_cqt, audio_hybird_cqt_fps)\n",
    "\n",
    "def get_vqt_data(input_wav_file):\n",
    "\n",
    "    audio_data, samp_rate = librosa.load(input_wav_file, sr=44100, mono=True)\n",
    "    audio_len = float(len(audio_data)) / float(samp_rate) # sec\n",
    "    audio_data_vqt = librosa.amplitude_to_db(np.abs(librosa.vqt(audio_data, sr=samp_rate, hop_length=256)), ref=np.max)\n",
    "    audio_vqt_fps = audio_data_vqt.shape[1] / audio_len\n",
    "\n",
    "    return (audio_data_vqt, audio_vqt_fps)"
   ]
  },
  {
   "cell_type": "markdown",
   "metadata": {},
   "source": [
    "# loop over files\n",
    "To get their cqt data"
   ]
  },
  {
   "cell_type": "code",
   "execution_count": 103,
   "metadata": {
    "scrolled": true
   },
   "outputs": [
    {
     "name": "stdout",
     "output_type": "stream",
     "text": [
      "[info] Conversion starts...\n",
      "[info] Current Time:     2021/06/21  15:23:55\n",
      "\n",
      "[info] MIDI file: 01_A_Hard_Days_Night_no_drum.mid\n",
      "[info] song: 01_A_Hard_Days_Night_no_drum done, total bars: 101\n",
      "[info] File [ 1 / 24 ] done.\n",
      "[info] Current Time:     2021/06/21  15:24:00\n",
      "\n",
      "[info] MIDI file: 02_Anna_no_drum.mid\n",
      "[info] song: 02_Anna_no_drum done, total bars: 81\n",
      "[info] File [ 2 / 24 ] done.\n",
      "[info] Current Time:     2021/06/21  15:24:03\n",
      "\n",
      "[info] MIDI file: 03_Back_In_The_USSR_no_drum.mid\n",
      "[info] song: 03_Back_In_The_USSR_no_drum done, total bars: 91\n",
      "[info] File [ 3 / 24 ] done.\n",
      "[info] Current Time:     2021/06/21  15:24:07\n",
      "\n",
      "[info] MIDI file: 04_Cant_Buy_Me_Love_no_drum.mid\n",
      "[info] song: 04_Cant_Buy_Me_Love_no_drum done, total bars: 94\n",
      "[info] File [ 4 / 24 ] done.\n",
      "[info] Current Time:     2021/06/21  15:24:11\n",
      "\n",
      "[info] MIDI file: 05_Hold_Me_Tight_no_drum.mid\n",
      "[info] song: 05_Hold_Me_Tight_no_drum done, total bars: 86\n",
      "[info] File [ 5 / 24 ] done.\n",
      "[info] Current Time:     2021/06/21  15:24:14\n",
      "\n",
      "[info] MIDI file: 06_I_Call_Your_Name_no_drum.mid\n",
      "[info] song: 06_I_Call_Your_Name_no_drum done, total bars: 84\n",
      "[info] File [ 6 / 24 ] done.\n",
      "[info] Current Time:     2021/06/21  15:24:18\n",
      "\n",
      "[info] MIDI file: 07_I_Wanna_Be_Your_Man_no_drum.mid\n",
      "[info] song: 07_I_Wanna_Be_Your_Man_no_drum done, total bars: 101\n",
      "[info] File [ 7 / 24 ] done.\n",
      "[info] Current Time:     2021/06/21  15:24:22\n",
      "\n",
      "[info] MIDI file: 08_Money_no_drum.mid\n",
      "[info] song: 08_Money_no_drum done, total bars: 91\n",
      "[info] File [ 8 / 24 ] done.\n",
      "[info] Current Time:     2021/06/21  15:24:26\n",
      "\n",
      "[info] MIDI file: 09_The_Word_no_drum.mid\n",
      "[info] song: 09_The_Word_no_drum done, total bars: 88\n",
      "[info] File [ 9 / 24 ] done.\n",
      "[info] Current Time:     2021/06/21  15:24:29\n",
      "\n",
      "[info] MIDI file: 10_Free_As_A_Bird_no_drum.mid\n",
      "[info] song: 10_Free_As_A_Bird_no_drum done, total bars: 79\n",
      "[info] File [ 10 / 24 ] done.\n",
      "[info] Current Time:     2021/06/21  15:24:33\n",
      "\n",
      "[info] MIDI file: 11_Hey_Jude_no_drum.mid\n",
      "[info] song: 11_Hey_Jude_no_drum done, total bars: 140\n",
      "[info] File [ 11 / 24 ] done.\n",
      "[info] Current Time:     2021/06/21  15:24:38\n",
      "\n",
      "[info] MIDI file: 12_Little_Child_no_drum.mid\n",
      "[info] song: 12_Little_Child_no_drum done, total bars: 68\n",
      "[info] File [ 12 / 24 ] done.\n",
      "[info] Current Time:     2021/06/21  15:24:41\n",
      "\n",
      "[info] MIDI file: 13_Hey_Bulldog_no_drum.mid\n",
      "[info] song: 13_Hey_Bulldog_no_drum done, total bars: 74\n",
      "[info] File [ 13 / 24 ] done.\n",
      "[info] Current Time:     2021/06/21  15:24:44\n",
      "\n",
      "[info] MIDI file: 14_Lovely_Rita_no_drum.mid\n",
      "[info] song: 14_Lovely_Rita_no_drum done, total bars: 62\n",
      "[info] File [ 14 / 24 ] done.\n",
      "[info] Current Time:     2021/06/21  15:24:47\n",
      "\n",
      "[info] MIDI file: 15_The_Night_Before_no_drum.mid\n",
      "[info] song: 15_The_Night_Before_no_drum done, total bars: 109\n",
      "[info] File [ 15 / 24 ] done.\n",
      "[info] Current Time:     2021/06/21  15:24:52\n",
      "\n",
      "[info] MIDI file: 16_From_Me_To_You_no_drum.mid\n",
      "[info] song: 16_From_Me_To_You_no_drum done, total bars: 67\n",
      "[info] File [ 16 / 24 ] done.\n",
      "[info] Current Time:     2021/06/21  15:24:54\n",
      "\n",
      "[info] MIDI file: 17_Roll_Over_Beethoven_no_drum.mid\n",
      "[info] song: 17_Roll_Over_Beethoven_no_drum done, total bars: 111\n",
      "[info] File [ 17 / 24 ] done.\n",
      "[info] Current Time:     2021/06/21  15:24:59\n",
      "\n",
      "[info] MIDI file: 18_Come_Together_no_drum.mid\n",
      "[info] song: 18_Come_Together_no_drum done, total bars: 95\n",
      "[info] File [ 18 / 24 ] done.\n",
      "[info] Current Time:     2021/06/21  15:25:03\n",
      "\n",
      "[info] MIDI file: 19_Babys_In_Black_no_drum.mid\n",
      "[info] song: 19_Babys_In_Black_no_drum done, total bars: 52\n",
      "[info] File [ 19 / 24 ] done.\n",
      "[info] Current Time:     2021/06/21  15:25:05\n",
      "\n",
      "[info] MIDI file: 21_Michael_Jackson_-_Bad_no_drum.mid\n",
      "[info] song: 21_Michael_Jackson_-_Bad_no_drum done, total bars: 118\n",
      "[info] File [ 20 / 24 ] done.\n",
      "[info] Current Time:     2021/06/21  15:25:10\n",
      "\n",
      "[info] MIDI file: 22_Michael_Jackson_-_Billie_Jean_no_drum.mid\n",
      "[info] song: 22_Michael_Jackson_-_Billie_Jean_no_drum done, total bars: 140\n",
      "[info] File [ 21 / 24 ] done.\n",
      "[info] Current Time:     2021/06/21  15:25:16\n",
      "\n",
      "[info] MIDI file: 23_Michael_Jackson_-_Man_In_The_Mirror_no_drum.mid\n",
      "[info] song: 23_Michael_Jackson_-_Man_In_The_Mirror_no_drum done, total bars: 133\n",
      "[info] File [ 22 / 24 ] done.\n",
      "[info] Current Time:     2021/06/21  15:25:21\n",
      "\n",
      "[info] MIDI file: 24_Michael_Jackson_-_Smooth_Criminal_no_drum.mid\n",
      "[info] song: 24_Michael_Jackson_-_Smooth_Criminal_no_drum done, total bars: 100\n",
      "[info] File [ 23 / 24 ] done.\n",
      "[info] Current Time:     2021/06/21  15:25:25\n",
      "\n",
      "[info] MIDI file: 25_Michael_Jackson_-_Beat_It_no_drum.mid\n",
      "[info] song: 25_Michael_Jackson_-_Beat_It_no_drum done, total bars: 146\n",
      "[info] File [ 24 / 24 ] done.\n",
      "[info] Current Time:     2021/06/21  15:25:31\n",
      "\n",
      "\n",
      "[info] Conversion ends.\n",
      "[info] Current Time:     2021/06/21  15:25:31\n"
     ]
    }
   ],
   "source": [
    "print ('[info] Conversion starts...')\n",
    "print (\"[info] Current Time:     \" + datetime.datetime.now().strftime('%Y/%m/%d  %H:%M:%S') + '\\n')\n",
    "\n",
    "total_midi_files = len(song_bar_grid_range_list)\n",
    "\n",
    "bad_file_note_counter = np.zeros(total_midi_files).astype(np.int)\n",
    "\n",
    "midi_index_start = 0\n",
    "midi_index_end = total_midi_files\n",
    "\n",
    "for midi_index in range(midi_index_start, midi_index_end):\n",
    "\n",
    "    #full_file_name = midi_obj_list_reload[midi_index].file_name\n",
    "\n",
    "    base_file_name = no_drum_mid_flist[midi_index].split('/')[-1][:-4]\n",
    "\n",
    "    print('[info] MIDI file: {}'.format(no_drum_mid_flist[midi_index].split('/')[-1]))\n",
    "\n",
    "#     song_cqt_data, song_cqt_fps = get_cqt_data(no_drum_wav_flist[midi_index])\n",
    "    song_cqt_data, song_cqt_fps = get_hybird_cqt_data(no_drum_wav_flist[midi_index])\n",
    "#     song_cqt_data, song_cqt_fps = get_vqt_data(no_drum_wav_flist[midi_index])\n",
    "\n",
    "    file_bar_num = len(song_bar_grid_range_list[midi_index])\n",
    "\n",
    "    bars_cqt_list = []\n",
    "\n",
    "    # loop all bars\n",
    "    for bar_idx in range(0, file_bar_num):\n",
    "        single_bar_grid_range = song_bar_grid_range_list[midi_index][bar_idx]\n",
    "\n",
    "        bar_cqt_notes = []\n",
    "\n",
    "        # loop all notes in bars\n",
    "        for note_idx in range(0, 96):\n",
    "            note_time_start = single_bar_grid_range[note_idx,0]\n",
    "            note_time_end = single_bar_grid_range[note_idx,1]\n",
    "\n",
    "            note_frame_start = np.round(note_time_start * song_cqt_fps, 0).astype(np.int)\n",
    "            note_frame_end = np.round(note_time_end * song_cqt_fps, 0).astype(np.int)\n",
    "\n",
    "            song_cqt_data_slice = copy.copy(song_cqt_data[:, note_frame_start:note_frame_end])\n",
    "\n",
    "            # filter out zero case\n",
    "            if song_cqt_data_slice.shape[1]<1:\n",
    "                print ('catch a zero slice!')\n",
    "                print (midi_index, bar_idx, note_idx)\n",
    "                #song_cqt_data_slice = np.zeros([song_cqt_data.shape[0], 1])\n",
    "                #song_cqt_data_slice[:] = -80.0                \n",
    "                cqt_note_84 = cqt_note_84\n",
    "\n",
    "                bad_file_note_counter[midi_index] += 1\n",
    "\n",
    "            else:\n",
    "                cqt_note_84 = np.mean(song_cqt_data_slice, axis=1)\n",
    "\n",
    "            bar_cqt_notes.append(cqt_note_84)\n",
    "\n",
    "        bar_cqt_notes_ary = np.array(bar_cqt_notes).transpose()\n",
    "\n",
    "        bars_cqt_list.append(bar_cqt_notes_ary)\n",
    "\n",
    "    file_name = './pre_processed_data/cqt_pooled_data/{}.pkl'.format(base_file_name)\n",
    "    ensure_dir(file_name)\n",
    "    with open(file_name, 'wb') as pkl_file:\n",
    "        pickle.dump(bars_cqt_list, pkl_file)\n",
    "\n",
    "    print ('[info] song: {} done, total bars: {}'.format(base_file_name, len(bars_cqt_list)))\n",
    "\n",
    "    print('[info] File [ {} / {} ] done.'.format(midi_index-midi_index_start+1, midi_index_end - midi_index_start))\n",
    "\n",
    "    print (\"[info] Current Time:     \" + datetime.datetime.now().strftime('%Y/%m/%d  %H:%M:%S') + '\\n')\n",
    "\n",
    "print ('\\n[info] Conversion ends.')\n",
    "print (\"[info] Current Time:     \" + datetime.datetime.now().strftime('%Y/%m/%d  %H:%M:%S'))   "
   ]
  },
  {
   "cell_type": "markdown",
   "metadata": {},
   "source": [
    "# Define function to read CQT data"
   ]
  },
  {
   "cell_type": "code",
   "execution_count": 104,
   "metadata": {},
   "outputs": [
    {
     "name": "stdout",
     "output_type": "stream",
     "text": [
      "[info] Total songs: 24\n",
      "./pre_processed_data/cqt_pooled_data/01_A_Hard_Days_Night_no_drum.pkl\n",
      "./pre_processed_data/cqt_pooled_data/02_Anna_no_drum.pkl\n",
      "./pre_processed_data/cqt_pooled_data/03_Back_In_The_USSR_no_drum.pkl\n",
      "\n",
      "[info] # of bars in song 0: 101\n",
      "[info] Spectrogram shape: (84, 96)\n"
     ]
    },
    {
     "data": {
      "image/png": "[encoded data removed]",
      "text/plain": [
       "<Figure size 432x288 with 1 Axes>"
      ]
     },
     "metadata": {
      "needs_background": "light"
     },
     "output_type": "display_data"
    }
   ],
   "source": [
    "read_pooled_cqt_flist = np.sort(glob.glob('./pre_processed_data/cqt_pooled_data/*.pkl', recursive=True)).tolist()\n",
    "print ('[info] Total songs: {}'.format(len(read_pooled_cqt_flist)))\n",
    "for x in read_pooled_cqt_flist[:3]: print (x)\n",
    "\n",
    "def read_pooled_cqt(file_idx,\n",
    "                    read_pooled_cqt_flist=read_pooled_cqt_flist):\n",
    "    \n",
    "    file_name = read_pooled_cqt_flist[file_idx]\n",
    "    with open(file_name, 'rb') as pkl_file:\n",
    "        pooled_cqt_data = pickle.load(pkl_file)\n",
    "        \n",
    "    return (pooled_cqt_data)\n",
    "\n",
    "print ('')\n",
    "print('[info] # of bars in song 0: {}'.format(len(read_pooled_cqt(0))))\n",
    "print('[info] Spectrogram shape: {}'.format(read_pooled_cqt(0)[0].shape))\n",
    "\n",
    "plt.imshow(read_pooled_cqt(1)[2]); plt.show();"
   ]
  },
  {
   "cell_type": "markdown",
   "metadata": {},
   "source": [
    "# Define CQT SSM calculation function"
   ]
  },
  {
   "cell_type": "code",
   "execution_count": 105,
   "metadata": {},
   "outputs": [
    {
     "name": "stdout",
     "output_type": "stream",
     "text": [
      "[info] SSM calculation function defined.\n"
     ]
    }
   ],
   "source": [
    "def get_song_ssm(gss_cqt_spec):\n",
    "    \n",
    "    print ('[Info] Start SSM Transfer')\n",
    "    print ('[Info] ' + datetime.datetime.now().strftime('%Y-%m-%d %H:%M:%S'))\n",
    "    \n",
    "    audio_spec = np.transpose(gss_cqt_spec)\n",
    "    \n",
    "    audio_df = pd.DataFrame(audio_spec)\n",
    "\n",
    "    print('[Info] frame length: {}'.format(len(audio_df.iloc[:,0])))\n",
    "    print('[Info] pitch class: {}'.format(len(audio_df.iloc[0,:])))\n",
    "\n",
    "    ssm_data_full_pix = squareform(pdist(audio_df, metric='euclidean'))\n",
    "\n",
    "    print ('[Info] SSM data shape: {}'.format(ssm_data_full_pix.shape))    \n",
    "    print ('[Info] SSM transfer done.')\n",
    "    print ('[Info] ' + datetime.datetime.now().strftime('%Y-%m-%d %H:%M:%S'))\n",
    "    \n",
    "    return (ssm_data_full_pix)\n",
    "\n",
    "\n",
    "def get_ssm_pix_start_end(gsp_abs_bar, gsp_bar_in_row):\n",
    "    row = gsp_abs_bar // gsp_bar_in_row\n",
    "    col = gsp_abs_bar - (gsp_bar_in_row * row)\n",
    "\n",
    "    row_start = row * 96\n",
    "    row_end = (row+1) * 96\n",
    "\n",
    "    col_start = col * 96\n",
    "    col_end = (col+1) * 96\n",
    "    \n",
    "    return([row_start, row_end, col_start, col_end])\n",
    "\n",
    "\n",
    "def get_ssm_pix_data(gspd_abs_bar, gspd_total_bars_1d, gspd_ssm_data):\n",
    "        \n",
    "    xxyy = get_ssm_pix_start_end(gspd_abs_bar, gspd_total_bars_1d)\n",
    "    \n",
    "    x_start = xxyy[0]\n",
    "    x_end = xxyy[1]\n",
    "    y_start = xxyy[2]\n",
    "    y_end = xxyy[3]\n",
    "    \n",
    "    return(np.mean(gspd_ssm_data[x_start:x_end, y_start:y_end]))\n",
    "\n",
    "\n",
    "def get_bar_lev_ssm(gbls_ssm):\n",
    "    \n",
    "    total_bars_1d = int(np.round(gbls_ssm.shape[1]/96))    \n",
    "    all_ssm_abs_bar_list = list(range(total_bars_1d**2))\n",
    "    bar_mean_ssm_data = [get_ssm_pix_data(abs_bar_idx, total_bars_1d, gbls_ssm) for abs_bar_idx in all_ssm_abs_bar_list]\n",
    "    \n",
    "    return(np.array(bar_mean_ssm_data).reshape(total_bars_1d, total_bars_1d))\n",
    "\n",
    "\n",
    "print ('[info] SSM calculation function defined.')"
   ]
  },
  {
   "cell_type": "markdown",
   "metadata": {},
   "source": [
    "# Loop all songs for CQT SSM calculation"
   ]
  },
  {
   "cell_type": "code",
   "execution_count": 106,
   "metadata": {
    "scrolled": true
   },
   "outputs": [
    {
     "name": "stdout",
     "output_type": "stream",
     "text": [
      "[Info] start SSM calculation...\n",
      "[Info] 2021-06-21 15:25:32\n",
      "\n",
      "[Info] Song Index: 0, 01_A_Hard_Days_Night_no_drum\n",
      "[Info] Start SSM Transfer\n",
      "[Info] 2021-06-21 15:25:32\n",
      "[Info] frame length: 9696\n",
      "[Info] pitch class: 84\n",
      "[Info] SSM data shape: (9696, 9696)\n",
      "[Info] SSM transfer done.\n",
      "[Info] 2021-06-21 15:25:36\n",
      "[Info] batch SSMs calculation done.\n",
      "[Info] 2021-06-21 15:25:36\n",
      "\n",
      "[Info] Song Index: 1, 02_Anna_no_drum\n",
      "[Info] Start SSM Transfer\n",
      "[Info] 2021-06-21 15:25:36\n",
      "[Info] frame length: 7776\n",
      "[Info] pitch class: 84\n",
      "[Info] SSM data shape: (7776, 7776)\n",
      "[Info] SSM transfer done.\n",
      "[Info] 2021-06-21 15:25:39\n",
      "[Info] batch SSMs calculation done.\n",
      "[Info] 2021-06-21 15:25:39\n",
      "\n",
      "[Info] Song Index: 2, 03_Back_In_The_USSR_no_drum\n",
      "[Info] Start SSM Transfer\n",
      "[Info] 2021-06-21 15:25:39\n",
      "[Info] frame length: 8736\n",
      "[Info] pitch class: 84\n",
      "[Info] SSM data shape: (8736, 8736)\n",
      "[Info] SSM transfer done.\n",
      "[Info] 2021-06-21 15:25:42\n",
      "[Info] batch SSMs calculation done.\n",
      "[Info] 2021-06-21 15:25:43\n",
      "\n",
      "[Info] Song Index: 3, 04_Cant_Buy_Me_Love_no_drum\n",
      "[Info] Start SSM Transfer\n",
      "[Info] 2021-06-21 15:25:43\n",
      "[Info] frame length: 9024\n",
      "[Info] pitch class: 84\n",
      "[Info] SSM data shape: (9024, 9024)\n",
      "[Info] SSM transfer done.\n",
      "[Info] 2021-06-21 15:25:46\n",
      "[Info] batch SSMs calculation done.\n",
      "[Info] 2021-06-21 15:25:46\n",
      "\n",
      "[Info] Song Index: 4, 05_Hold_Me_Tight_no_drum\n",
      "[Info] Start SSM Transfer\n",
      "[Info] 2021-06-21 15:25:46\n",
      "[Info] frame length: 8256\n",
      "[Info] pitch class: 84\n",
      "[Info] SSM data shape: (8256, 8256)\n",
      "[Info] SSM transfer done.\n",
      "[Info] 2021-06-21 15:25:49\n",
      "[Info] batch SSMs calculation done.\n",
      "[Info] 2021-06-21 15:25:50\n",
      "\n",
      "[Info] Song Index: 5, 06_I_Call_Your_Name_no_drum\n",
      "[Info] Start SSM Transfer\n",
      "[Info] 2021-06-21 15:25:50\n",
      "[Info] frame length: 8064\n",
      "[Info] pitch class: 84\n",
      "[Info] SSM data shape: (8064, 8064)\n",
      "[Info] SSM transfer done.\n",
      "[Info] 2021-06-21 15:25:52\n",
      "[Info] batch SSMs calculation done.\n",
      "[Info] 2021-06-21 15:25:53\n",
      "\n",
      "[Info] Song Index: 6, 07_I_Wanna_Be_Your_Man_no_drum\n",
      "[Info] Start SSM Transfer\n",
      "[Info] 2021-06-21 15:25:53\n",
      "[Info] frame length: 9696\n",
      "[Info] pitch class: 84\n",
      "[Info] SSM data shape: (9696, 9696)\n",
      "[Info] SSM transfer done.\n",
      "[Info] 2021-06-21 15:25:57\n",
      "[Info] batch SSMs calculation done.\n",
      "[Info] 2021-06-21 15:25:57\n",
      "\n",
      "[Info] Song Index: 7, 08_Money_no_drum\n",
      "[Info] Start SSM Transfer\n",
      "[Info] 2021-06-21 15:25:57\n",
      "[Info] frame length: 8736\n",
      "[Info] pitch class: 84\n",
      "[Info] SSM data shape: (8736, 8736)\n",
      "[Info] SSM transfer done.\n",
      "[Info] 2021-06-21 15:26:00\n",
      "[Info] batch SSMs calculation done.\n",
      "[Info] 2021-06-21 15:26:01\n",
      "\n",
      "[Info] Song Index: 8, 09_The_Word_no_drum\n",
      "[Info] Start SSM Transfer\n",
      "[Info] 2021-06-21 15:26:01\n",
      "[Info] frame length: 8448\n",
      "[Info] pitch class: 84\n",
      "[Info] SSM data shape: (8448, 8448)\n",
      "[Info] SSM transfer done.\n",
      "[Info] 2021-06-21 15:26:04\n",
      "[Info] batch SSMs calculation done.\n",
      "[Info] 2021-06-21 15:26:04\n",
      "\n",
      "[Info] Song Index: 9, 10_Free_As_A_Bird_no_drum\n",
      "[Info] Start SSM Transfer\n",
      "[Info] 2021-06-21 15:26:04\n",
      "[Info] frame length: 7584\n",
      "[Info] pitch class: 84\n",
      "[Info] SSM data shape: (7584, 7584)\n",
      "[Info] SSM transfer done.\n",
      "[Info] 2021-06-21 15:26:06\n",
      "[Info] batch SSMs calculation done.\n",
      "[Info] 2021-06-21 15:26:07\n",
      "\n",
      "[Info] Song Index: 10, 11_Hey_Jude_no_drum\n",
      "[Info] Start SSM Transfer\n",
      "[Info] 2021-06-21 15:26:07\n",
      "[Info] frame length: 13440\n",
      "[Info] pitch class: 84\n",
      "[Info] SSM data shape: (13440, 13440)\n",
      "[Info] SSM transfer done.\n",
      "[Info] 2021-06-21 15:26:16\n",
      "[Info] batch SSMs calculation done.\n",
      "[Info] 2021-06-21 15:26:16\n",
      "\n",
      "[Info] Song Index: 11, 12_Little_Child_no_drum\n",
      "[Info] Start SSM Transfer\n",
      "[Info] 2021-06-21 15:26:16\n",
      "[Info] frame length: 6528\n",
      "[Info] pitch class: 84\n",
      "[Info] SSM data shape: (6528, 6528)\n",
      "[Info] SSM transfer done.\n",
      "[Info] 2021-06-21 15:26:18\n",
      "[Info] batch SSMs calculation done.\n",
      "[Info] 2021-06-21 15:26:18\n",
      "\n",
      "[Info] Song Index: 12, 13_Hey_Bulldog_no_drum\n",
      "[Info] Start SSM Transfer\n",
      "[Info] 2021-06-21 15:26:18\n",
      "[Info] frame length: 7104\n",
      "[Info] pitch class: 84\n",
      "[Info] SSM data shape: (7104, 7104)\n",
      "[Info] SSM transfer done.\n",
      "[Info] 2021-06-21 15:26:20\n",
      "[Info] batch SSMs calculation done.\n",
      "[Info] 2021-06-21 15:26:20\n",
      "\n",
      "[Info] Song Index: 13, 14_Lovely_Rita_no_drum\n",
      "[Info] Start SSM Transfer\n",
      "[Info] 2021-06-21 15:26:20\n",
      "[Info] frame length: 5952\n",
      "[Info] pitch class: 84\n",
      "[Info] SSM data shape: (5952, 5952)\n",
      "[Info] SSM transfer done.\n",
      "[Info] 2021-06-21 15:26:22\n",
      "[Info] batch SSMs calculation done.\n",
      "[Info] 2021-06-21 15:26:22\n",
      "\n",
      "[Info] Song Index: 14, 15_The_Night_Before_no_drum\n",
      "[Info] Start SSM Transfer\n",
      "[Info] 2021-06-21 15:26:22\n",
      "[Info] frame length: 10464\n",
      "[Info] pitch class: 84\n",
      "[Info] SSM data shape: (10464, 10464)\n",
      "[Info] SSM transfer done.\n",
      "[Info] 2021-06-21 15:26:27\n",
      "[Info] batch SSMs calculation done.\n",
      "[Info] 2021-06-21 15:26:27\n",
      "\n",
      "[Info] Song Index: 15, 16_From_Me_To_You_no_drum\n",
      "[Info] Start SSM Transfer\n",
      "[Info] 2021-06-21 15:26:27\n",
      "[Info] frame length: 6432\n",
      "[Info] pitch class: 84\n",
      "[Info] SSM data shape: (6432, 6432)\n",
      "[Info] SSM transfer done.\n",
      "[Info] 2021-06-21 15:26:29\n",
      "[Info] batch SSMs calculation done.\n",
      "[Info] 2021-06-21 15:26:29\n",
      "\n",
      "[Info] Song Index: 16, 17_Roll_Over_Beethoven_no_drum\n",
      "[Info] Start SSM Transfer\n",
      "[Info] 2021-06-21 15:26:29\n",
      "[Info] frame length: 10656\n",
      "[Info] pitch class: 84\n",
      "[Info] SSM data shape: (10656, 10656)\n",
      "[Info] SSM transfer done.\n",
      "[Info] 2021-06-21 15:26:34\n",
      "[Info] batch SSMs calculation done.\n",
      "[Info] 2021-06-21 15:26:35\n",
      "\n",
      "[Info] Song Index: 17, 18_Come_Together_no_drum\n",
      "[Info] Start SSM Transfer\n",
      "[Info] 2021-06-21 15:26:35\n",
      "[Info] frame length: 9120\n",
      "[Info] pitch class: 84\n",
      "[Info] SSM data shape: (9120, 9120)\n",
      "[Info] SSM transfer done.\n",
      "[Info] 2021-06-21 15:26:38\n",
      "[Info] batch SSMs calculation done.\n",
      "[Info] 2021-06-21 15:26:39\n",
      "\n",
      "[Info] Song Index: 18, 19_Babys_In_Black_no_drum\n",
      "[Info] Start SSM Transfer\n",
      "[Info] 2021-06-21 15:26:39\n",
      "[Info] frame length: 4992\n",
      "[Info] pitch class: 84\n",
      "[Info] SSM data shape: (4992, 4992)\n",
      "[Info] SSM transfer done.\n",
      "[Info] 2021-06-21 15:26:40\n",
      "[Info] batch SSMs calculation done.\n",
      "[Info] 2021-06-21 15:26:40\n",
      "\n",
      "[Info] Song Index: 19, 21_Michael_Jackson_-_Bad_no_drum\n",
      "[Info] Start SSM Transfer\n",
      "[Info] 2021-06-21 15:26:40\n",
      "[Info] frame length: 11328\n",
      "[Info] pitch class: 84\n",
      "[Info] SSM data shape: (11328, 11328)\n",
      "[Info] SSM transfer done.\n",
      "[Info] 2021-06-21 15:26:46\n",
      "[Info] batch SSMs calculation done.\n",
      "[Info] 2021-06-21 15:26:46\n",
      "\n",
      "[Info] Song Index: 20, 22_Michael_Jackson_-_Billie_Jean_no_drum\n",
      "[Info] Start SSM Transfer\n",
      "[Info] 2021-06-21 15:26:46\n",
      "[Info] frame length: 13440\n",
      "[Info] pitch class: 84\n",
      "[Info] SSM data shape: (13440, 13440)\n",
      "[Info] SSM transfer done.\n",
      "[Info] 2021-06-21 15:26:56\n",
      "[Info] batch SSMs calculation done.\n",
      "[Info] 2021-06-21 15:26:56\n",
      "\n",
      "[Info] Song Index: 21, 23_Michael_Jackson_-_Man_In_The_Mirror_no_drum\n",
      "[Info] Start SSM Transfer\n",
      "[Info] 2021-06-21 15:26:56\n",
      "[Info] frame length: 12768\n",
      "[Info] pitch class: 84\n",
      "[Info] SSM data shape: (12768, 12768)\n",
      "[Info] SSM transfer done.\n",
      "[Info] 2021-06-21 15:27:04\n",
      "[Info] batch SSMs calculation done.\n",
      "[Info] 2021-06-21 15:27:05\n",
      "\n",
      "[Info] Song Index: 22, 24_Michael_Jackson_-_Smooth_Criminal_no_drum\n",
      "[Info] Start SSM Transfer\n",
      "[Info] 2021-06-21 15:27:05\n",
      "[Info] frame length: 9600\n",
      "[Info] pitch class: 84\n",
      "[Info] SSM data shape: (9600, 9600)\n",
      "[Info] SSM transfer done.\n",
      "[Info] 2021-06-21 15:27:09\n",
      "[Info] batch SSMs calculation done.\n",
      "[Info] 2021-06-21 15:27:10\n",
      "\n",
      "[Info] Song Index: 23, 25_Michael_Jackson_-_Beat_It_no_drum\n",
      "[Info] Start SSM Transfer\n",
      "[Info] 2021-06-21 15:27:10\n",
      "[Info] frame length: 14016\n",
      "[Info] pitch class: 84\n",
      "[Info] SSM data shape: (14016, 14016)\n",
      "[Info] SSM transfer done.\n",
      "[Info] 2021-06-21 15:27:20\n",
      "[Info] batch SSMs calculation done.\n",
      "[Info] 2021-06-21 15:27:20\n",
      "\n",
      "\n",
      "[info] files write done.\n",
      "[Info] 2021-06-21 15:27:20\n"
     ]
    }
   ],
   "source": [
    "print ('[Info] start SSM calculation...')\n",
    "print ('[Info] ' + datetime.datetime.now().strftime('%Y-%m-%d %H:%M:%S') + '\\n')\n",
    "\n",
    "song_idx_idx_start = 0\n",
    "song_idx_idx_end = len(read_pooled_cqt_flist)\n",
    "\n",
    "for song_idx in range(song_idx_idx_start, song_idx_idx_end):\n",
    "\n",
    "    base_file_name = no_drum_mid_flist[song_idx].split('/')[-1][:-4]\n",
    "\n",
    "    print ('[Info] Song Index: {}, {}'.format(song_idx, base_file_name))\n",
    "\n",
    "    full_song_spec = np.concatenate(read_pooled_cqt(song_idx), axis=1)\n",
    "\n",
    "    ssm_result = get_song_ssm(full_song_spec)\n",
    "\n",
    "    bar_ssm_data_tmp = get_bar_lev_ssm(ssm_result)\n",
    "\n",
    "    file_name = 'song_barlv_ssm_{:0>5}.pkl'.format(base_file_name)\n",
    "    folder_name = './pre_processed_data/bar_level_cqt_ssm/'\n",
    "    full_file_name = folder_name + file_name\n",
    "    ensure_dir(full_file_name)\n",
    "\n",
    "    with open(full_file_name, 'wb') as pkl_file:\n",
    "        pickle.dump(bar_ssm_data_tmp, pkl_file)\n",
    "\n",
    "    print ('[Info] batch SSMs calculation done.')\n",
    "    print ('[Info] ' + datetime.datetime.now().strftime('%Y-%m-%d %H:%M:%S') + '\\n')\n",
    "\n",
    "#print(bar_ssm_data_tmp.shape)\n",
    "print ('\\n[info] files write done.')\n",
    "print ('[Info] ' + datetime.datetime.now().strftime('%Y-%m-%d %H:%M:%S'))"
   ]
  },
  {
   "cell_type": "markdown",
   "metadata": {},
   "source": [
    "# Check CQT SSM data"
   ]
  },
  {
   "cell_type": "code",
   "execution_count": 107,
   "metadata": {},
   "outputs": [
    {
     "name": "stdout",
     "output_type": "stream",
     "text": [
      "[Info] Song Index: 0, ./pre_processed_data/bar_level_cqt_ssm/song_barlv_ssm_01_A_Hard_Days_Night_no_drum.pkl\n",
      "[info] SSM shape: (101, 101)\n"
     ]
    },
    {
     "data": {
      "image/png": "[encoded data removed]",
      "text/plain": [
       "<Figure size 576x576 with 1 Axes>"
      ]
     },
     "metadata": {
      "needs_background": "light"
     },
     "output_type": "display_data"
    }
   ],
   "source": [
    "# Hybrid_CQT\n",
    "def read_cqt_ssm_data(song_idx_in):\n",
    "    cqt_ssm_flist = np.sort(glob.glob('./pre_processed_data/bar_level_cqt_ssm/*.pkl', recursive=True)).tolist()\n",
    "    print ('[Info] Song Index: {}, {}'.format(song_idx, cqt_ssm_flist[song_idx_in]))\n",
    "    with open(cqt_ssm_flist[song_idx_in], 'rb') as pkl_file:\n",
    "        cqt_ssm_data_reload = pickle.load(pkl_file)\n",
    "    return (cqt_ssm_data_reload)\n",
    "\n",
    "# show CQT SSM data\n",
    "song_idx = 0\n",
    "plot_data1 = copy.deepcopy(read_cqt_ssm_data(song_idx))\n",
    "print ('[info] SSM shape: {}'.format(plot_data1.shape))\n",
    "plt.figure(figsize=(8, 8))\n",
    "normal_data = plot_data1\n",
    "abnormal_data = (np.max(normal_data) - normal_data)\n",
    "plt.imshow(abnormal_data, origin='lower', cmap='hot')\n",
    "plt.show()"
   ]
  },
  {
   "cell_type": "code",
   "execution_count": 97,
   "metadata": {},
   "outputs": [
    {
     "name": "stdout",
     "output_type": "stream",
     "text": [
      "[Info] Song Index: 0, ./pre_processed_data/bar_level_cqt_ssm/song_barlv_ssm_01_A_Hard_Days_Night_no_drum.pkl\n",
      "[info] SSM shape: (101, 101)\n"
     ]
    },
    {
     "data": {
      "image/png": "[encoded data removed]",
      "text/plain": [
       "<Figure size 576x576 with 1 Axes>"
      ]
     },
     "metadata": {
      "needs_background": "light"
     },
     "output_type": "display_data"
    }
   ],
   "source": [
    "# VQT\n",
    "def read_cqt_ssm_data(song_idx_in):\n",
    "    cqt_ssm_flist = np.sort(glob.glob('./pre_processed_data/bar_level_cqt_ssm/*.pkl', recursive=True)).tolist()\n",
    "    print ('[Info] Song Index: {}, {}'.format(song_idx, cqt_ssm_flist[song_idx_in]))\n",
    "    with open(cqt_ssm_flist[song_idx_in], 'rb') as pkl_file:\n",
    "        cqt_ssm_data_reload = pickle.load(pkl_file)\n",
    "    return (cqt_ssm_data_reload)\n",
    "\n",
    "# show CQT SSM data\n",
    "song_idx = 0\n",
    "plot_data1 = copy.deepcopy(read_cqt_ssm_data(song_idx))\n",
    "print ('[info] SSM shape: {}'.format(plot_data1.shape))\n",
    "plt.figure(figsize=(8, 8))\n",
    "normal_data = plot_data1\n",
    "abnormal_data = (np.max(normal_data) - normal_data)\n",
    "plt.imshow(abnormal_data, origin='lower', cmap='hot')\n",
    "plt.show()"
   ]
  },
  {
   "cell_type": "code",
   "execution_count": 102,
   "metadata": {},
   "outputs": [
    {
     "name": "stdout",
     "output_type": "stream",
     "text": [
      "[Info] Song Index: 0, ./pre_processed_data/bar_level_cqt_ssm/song_barlv_ssm_01_A_Hard_Days_Night_no_drum.pkl\n",
      "[info] SSM shape: (101, 101)\n"
     ]
    },
    {
     "data": {
      "image/png": "[encoded data removed]",
      "text/plain": [
       "<Figure size 576x576 with 1 Axes>"
      ]
     },
     "metadata": {
      "needs_background": "light"
     },
     "output_type": "display_data"
    }
   ],
   "source": [
    "# CQT\n",
    "def read_cqt_ssm_data(song_idx_in):\n",
    "    cqt_ssm_flist = np.sort(glob.glob('./pre_processed_data/bar_level_cqt_ssm/*.pkl', recursive=True)).tolist()\n",
    "    print ('[Info] Song Index: {}, {}'.format(song_idx, cqt_ssm_flist[song_idx_in]))\n",
    "    with open(cqt_ssm_flist[song_idx_in], 'rb') as pkl_file:\n",
    "        cqt_ssm_data_reload = pickle.load(pkl_file)\n",
    "    return (cqt_ssm_data_reload)\n",
    "\n",
    "# show CQT SSM data\n",
    "song_idx = 0\n",
    "plot_data1 = copy.deepcopy(read_cqt_ssm_data(song_idx))\n",
    "print ('[info] SSM shape: {}'.format(plot_data1.shape))\n",
    "plt.figure(figsize=(8, 8))\n",
    "normal_data = plot_data1\n",
    "abnormal_data = (np.max(normal_data) - normal_data)\n",
    "plt.imshow(abnormal_data, origin='lower', cmap='hot')\n",
    "plt.show()"
   ]
  },
  {
   "cell_type": "code",
   "execution_count": null,
   "metadata": {},
   "outputs": [],
   "source": []
  },
  {
   "cell_type": "markdown",
   "metadata": {},
   "source": [
    "# Condense drum note time step from 96 to 16"
   ]
  },
  {
   "cell_type": "markdown",
   "metadata": {},
   "source": [
    "## reload midi object"
   ]
  },
  {
   "cell_type": "code",
   "execution_count": 60,
   "metadata": {},
   "outputs": [
    {
     "name": "stdout",
     "output_type": "stream",
     "text": [
      "[info] Total songs: 24\n"
     ]
    }
   ],
   "source": [
    "obj_file_name = './pre_processed_data/proc_midi_object.pkl'\n",
    "with open(obj_file_name, 'rb') as pkl_file:\n",
    "    midi_track_obj_list = pickle.load(pkl_file)\n",
    "print ('[info] Total songs: {}'.format(len(midi_track_obj_list)))"
   ]
  },
  {
   "cell_type": "markdown",
   "metadata": {},
   "source": [
    "## plot data format before condese (128 x 96)"
   ]
  },
  {
   "cell_type": "code",
   "execution_count": 61,
   "metadata": {},
   "outputs": [
    {
     "data": {
      "image/png": "[encoded data removed]",
      "text/plain": [
       "<Figure size 1296x432 with 1 Axes>"
      ]
     },
     "metadata": {
      "needs_background": "light"
     },
     "output_type": "display_data"
    }
   ],
   "source": [
    "song_idx = 1; bar_idx = 80;\n",
    "\n",
    "plot_data1 = copy.deepcopy(midi_track_obj_list[song_idx].drum_bar_list_bin[bar_idx])\n",
    "\n",
    "plt.figure(figsize=(18, 6))\n",
    "plt.imshow(plot_data1, interpolation='nearest', origin='lower', aspect='auto', cmap='hot')\n",
    "plt.xticks(np.arange(0, plot_data1.shape[1], 1), rotation=90)\n",
    "plt.yticks(np.arange(0, plot_data1.shape[0], 2))\n",
    "#plt.ylim(20,80)\n",
    "plt.grid() ; plt.show();"
   ]
  },
  {
   "cell_type": "markdown",
   "metadata": {},
   "source": [
    "## Select instruments to keep in drum channel"
   ]
  },
  {
   "cell_type": "code",
   "execution_count": 62,
   "metadata": {},
   "outputs": [
    {
     "name": "stdout",
     "output_type": "stream",
     "text": [
      "keeped Insts: 28\n",
      "keeped Insts: 46\n"
     ]
    }
   ],
   "source": [
    "# keep 95 % of all instrument count (total 28 insts)\n",
    "selected_inst_list_28 = [28, 35, 36, 37, 38, 39, 40, 42, 43, 44, 45, 46, 49, 51, 53, 54, 56, 57, \\\n",
    "                         59, 60, 61, 62, 63, 64, 69, 70, 80, 82]\n",
    "print ('keeped Insts: {}'.format(len(selected_inst_list_28)))\n",
    "\n",
    "# keep 99 % of all instrument count (total 46 insts)\n",
    "selected_inst_list_46 = [27, 28, 33, 35, 36, 37, 38, 39, 40, 41, 42, 43, 44, 45, 46, 47, 48, 49, \\\n",
    "                         51, 53, 54, 55, 56, 57, 59, 60, 61, 62, 63, 64, 65, 67, 68, 69, 70, 73, \\\n",
    "                         74, 75, 76, 77, 80, 81, 82, 83, 85, 87]\n",
    "print ('keeped Insts: {}'.format(len(selected_inst_list_46)))"
   ]
  },
  {
   "cell_type": "markdown",
   "metadata": {},
   "source": [
    "## loop all files to compress drum [pitch / time] data"
   ]
  },
  {
   "cell_type": "code",
   "execution_count": 63,
   "metadata": {
    "scrolled": true
   },
   "outputs": [
    {
     "name": "stdout",
     "output_type": "stream",
     "text": [
      "[info] file idx: [ 0 / 23 ], total bars: 101\n",
      "[info] file idx: [ 1 / 23 ], total bars: 81\n",
      "[info] file idx: [ 2 / 23 ], total bars: 91\n",
      "[info] file idx: [ 3 / 23 ], total bars: 94\n",
      "[info] file idx: [ 4 / 23 ], total bars: 86\n",
      "[info] file idx: [ 5 / 23 ], total bars: 84\n",
      "[info] file idx: [ 6 / 23 ], total bars: 101\n",
      "[info] file idx: [ 7 / 23 ], total bars: 91\n",
      "[info] file idx: [ 8 / 23 ], total bars: 88\n",
      "[info] file idx: [ 9 / 23 ], total bars: 79\n",
      "[info] file idx: [ 10 / 23 ], total bars: 140\n",
      "[info] file idx: [ 11 / 23 ], total bars: 68\n",
      "[info] file idx: [ 12 / 23 ], total bars: 74\n",
      "[info] file idx: [ 13 / 23 ], total bars: 62\n",
      "[info] file idx: [ 14 / 23 ], total bars: 109\n",
      "[info] file idx: [ 15 / 23 ], total bars: 67\n",
      "[info] file idx: [ 16 / 23 ], total bars: 111\n",
      "[info] file idx: [ 17 / 23 ], total bars: 95\n",
      "[info] file idx: [ 18 / 23 ], total bars: 52\n",
      "[info] file idx: [ 19 / 23 ], total bars: 118\n",
      "[info] file idx: [ 20 / 23 ], total bars: 140\n",
      "[info] file idx: [ 21 / 23 ], total bars: 133\n",
      "[info] file idx: [ 22 / 23 ], total bars: 100\n",
      "[info] file idx: [ 23 / 23 ], total bars: 146\n",
      "\n",
      "[info] All songs are processed.\n"
     ]
    }
   ],
   "source": [
    "song_drum_bar_list_28 = []\n",
    "song_drum_bar_list_46 = []\n",
    "\n",
    "total_files = len(midi_track_obj_list)\n",
    "\n",
    "for file_idx in range(total_files):\n",
    "\n",
    "    single_song_drum_bar_list = copy.deepcopy(midi_track_obj_list[file_idx].drum_bar_list_bin)\n",
    "    concat_bars_array = np.concatenate(copy.deepcopy(single_song_drum_bar_list), axis=1)\n",
    "    #print (concat_bars_array.shape)\n",
    "\n",
    "    drum_bars_list_28 = []\n",
    "    drum_bars_list_46 = []    \n",
    "\n",
    "    total_bars_num = len(single_song_drum_bar_list)\n",
    "\n",
    "    time_step_in_bar = single_song_drum_bar_list[0].shape[1]\n",
    "\n",
    "    t_range_base = np.array(list(range(0, time_step_in_bar, int(time_step_in_bar/16))))\n",
    "\n",
    "    for bar_idx in range(0, total_bars_num):\n",
    "\n",
    "        t_range = t_range_base + bar_idx*time_step_in_bar\n",
    "        t_range_n1 = copy.deepcopy(t_range_base + bar_idx*time_step_in_bar -1)\n",
    "        t_range_n1[t_range_n1<0] = 0\n",
    "        t_range_p1 = copy.deepcopy(t_range_base + bar_idx*time_step_in_bar +1)\n",
    "        t_range_p1[t_range_n1>concat_bars_array.shape[1]] = concat_bars_array.shape[1]\n",
    "\n",
    "\n",
    "        select_bar = concat_bars_array[:, t_range]\n",
    "        select_bar_n1 = concat_bars_array[:, t_range_n1]\n",
    "        select_bar_p1 = concat_bars_array[:, t_range_p1]\n",
    "\n",
    "        bar_mixed = select_bar + select_bar_n1 + select_bar_p1\n",
    "        bar_mixed[bar_mixed>=0.5] = 1\n",
    "        bar_mixed[bar_mixed<0.5] = 0\n",
    "        bar_mixed_select_28 = copy.deepcopy(bar_mixed[selected_inst_list_28, :])        \n",
    "        bar_mixed_select_46 = copy.deepcopy(bar_mixed[selected_inst_list_46, :])\n",
    "\n",
    "        drum_bars_list_28.append(copy.deepcopy(bar_mixed_select_28))        \n",
    "        drum_bars_list_46.append(copy.deepcopy(bar_mixed_select_46))\n",
    "\n",
    "\n",
    "    print ('[info] file idx: [ {} / {} ], total bars: {}'.format(file_idx, \n",
    "                                                                 total_files-1, \n",
    "                                                                 len(drum_bars_list_28)))\n",
    "\n",
    "    song_drum_bar_list_28.append(drum_bars_list_28)\n",
    "    song_drum_bar_list_46.append(drum_bars_list_46)\n",
    "\n",
    "print ('\\n[info] All songs are processed.')"
   ]
  },
  {
   "cell_type": "markdown",
   "metadata": {},
   "source": [
    "## save condensed drum midi data"
   ]
  },
  {
   "cell_type": "code",
   "execution_count": 64,
   "metadata": {},
   "outputs": [
    {
     "name": "stdout",
     "output_type": "stream",
     "text": [
      "[info] ./pre_processed_data/cdsed_drum_bar_list_28_46/song_drum_bar_list_28.pkl is saved.\n",
      "[info] ./pre_processed_data/cdsed_drum_bar_list_28_46/song_drum_bar_list_46.pkl is saved.\n"
     ]
    }
   ],
   "source": [
    "file_name = 'song_drum_bar_list_28.pkl'\n",
    "folder_name = './pre_processed_data/cdsed_drum_bar_list_28_46/'\n",
    "full_file_name = folder_name + file_name\n",
    "ensure_dir(full_file_name)\n",
    "\n",
    "with open(full_file_name, 'wb') as pkl_file:\n",
    "    pickle.dump(song_drum_bar_list_28, pkl_file)\n",
    "    print ('[info] {} is saved.'.format(full_file_name))\n",
    "\n",
    "file_name = 'song_drum_bar_list_46.pkl'\n",
    "folder_name = './pre_processed_data/cdsed_drum_bar_list_28_46/'\n",
    "full_file_name = folder_name + file_name\n",
    "ensure_dir(full_file_name)\n",
    "\n",
    "with open(full_file_name, 'wb') as pkl_file:\n",
    "    pickle.dump(song_drum_bar_list_46, pkl_file)\n",
    "    print ('[info] {} is saved.'.format(full_file_name))"
   ]
  },
  {
   "cell_type": "markdown",
   "metadata": {},
   "source": [
    "## check total note numbers"
   ]
  },
  {
   "cell_type": "code",
   "execution_count": 65,
   "metadata": {},
   "outputs": [
    {
     "name": "stdout",
     "output_type": "stream",
     "text": [
      "[info] Total full-inst drum note num: 39283\n",
      "[info] Total 28-inst drum note num: 38490\n",
      "[info] Total 46-inst drum note num: 37864\n"
     ]
    }
   ],
   "source": [
    "song_note_num = 0\n",
    "for file_idx in range(len(midi_track_obj_list)):\n",
    "    single_song_drum_bar_list = copy.deepcopy(midi_track_obj_list[file_idx].drum_bar_list_bin)\n",
    "    concat_bars_array = np.concatenate(copy.deepcopy(single_song_drum_bar_list), axis=1)\n",
    "    song_note_num += np.sum(concat_bars_array).astype(int)\n",
    "print ('[info] Total full-inst drum note num: {}'.format(song_note_num))\n",
    "\n",
    "song_note_num = 0\n",
    "for song_idx in range(0, len(song_drum_bar_list_46)):\n",
    "    song_note_num += np.sum(np.array(song_drum_bar_list_46[song_idx])).astype(int)\n",
    "print ('[info] Total 28-inst drum note num: {}'.format(song_note_num))\n",
    "\n",
    "song_note_num = 0\n",
    "for song_idx in range(0, len(song_drum_bar_list_28)):\n",
    "    song_note_num += np.sum(np.array(song_drum_bar_list_28[song_idx])).astype(int)\n",
    "print ('[info] Total 46-inst drum note num: {}'.format(song_note_num))"
   ]
  },
  {
   "cell_type": "code",
   "execution_count": null,
   "metadata": {},
   "outputs": [],
   "source": []
  },
  {
   "cell_type": "markdown",
   "metadata": {},
   "source": [
    "## Show simplified drum data (28/46 insts)"
   ]
  },
  {
   "cell_type": "code",
   "execution_count": 66,
   "metadata": {},
   "outputs": [
    {
     "data": {
      "image/png": "[encoded data removed]",
      "text/plain": [
       "<Figure size 1296x288 with 1 Axes>"
      ]
     },
     "metadata": {
      "needs_background": "light"
     },
     "output_type": "display_data"
    },
    {
     "data": {
      "image/png": "[encoded data removed]",
      "text/plain": [
       "<Figure size 1296x324 with 1 Axes>"
      ]
     },
     "metadata": {
      "needs_background": "light"
     },
     "output_type": "display_data"
    }
   ],
   "source": [
    "song_idx = 22; bar_idx = 50;\n",
    "\n",
    "# show 28 instruments data\n",
    "plot_data1 = copy.deepcopy(song_drum_bar_list_28[song_idx][bar_idx])\n",
    "plt.figure(figsize=(18, 4))\n",
    "plt.imshow(plot_data1, interpolation='nearest', origin='lower', aspect='auto', cmap='hot')\n",
    "plt.xticks(np.arange(0, plot_data1.shape[1], 1), rotation=90)\n",
    "plt.yticks(np.arange(0, plot_data1.shape[0], 1))\n",
    "#plt.ylim(20,80)\n",
    "plt.title('28 insts bar data'); plt.grid() ; plt.show();\n",
    "\n",
    "# show 46 instruments data\n",
    "plot_data2 = copy.deepcopy(song_drum_bar_list_46[song_idx][bar_idx])\n",
    "plt.figure(figsize=(18, 4.5))\n",
    "plt.imshow(plot_data2, interpolation='nearest', origin='lower', aspect='auto', cmap='hot')\n",
    "plt.xticks(np.arange(0, plot_data2.shape[1], 1), rotation=90)\n",
    "plt.yticks(np.arange(0, plot_data2.shape[0], 2))\n",
    "#plt.ylim(20,80)\n",
    "plt.title('46 insts bar data'); plt.grid() ; plt.show();"
   ]
  },
  {
   "cell_type": "markdown",
   "metadata": {},
   "source": [
    "## loop over files to calculate 46-inst drum SSM"
   ]
  },
  {
   "cell_type": "code",
   "execution_count": 67,
   "metadata": {},
   "outputs": [
    {
     "name": "stdout",
     "output_type": "stream",
     "text": [
      "[info] Song idx: 0 , Total bars: 101\n",
      "SSM data shape: (101, 101)\n",
      "SSM data mean: 3.11\n",
      "SSM data std: 2.13\n",
      "SSM data max: 5.74\n",
      "SSM data min: 0.00\n",
      "\n",
      "[info] Song idx: 1 , Total bars: 81\n",
      "SSM data shape: (81, 81)\n",
      "SSM data mean: 3.03\n",
      "SSM data std: 1.78\n",
      "SSM data max: 5.83\n",
      "SSM data min: 0.00\n",
      "\n",
      "[info] Song idx: 2 , Total bars: 91\n",
      "SSM data shape: (91, 91)\n",
      "SSM data mean: 3.14\n",
      "SSM data std: 1.25\n",
      "SSM data max: 5.57\n",
      "SSM data min: 0.00\n",
      "\n",
      "[info] Song idx: 3 , Total bars: 94\n",
      "SSM data shape: (94, 94)\n",
      "SSM data mean: 1.42\n",
      "SSM data std: 1.48\n",
      "SSM data max: 3.46\n",
      "SSM data min: 0.00\n",
      "\n",
      "[info] Song idx: 4 , Total bars: 86\n",
      "SSM data shape: (86, 86)\n",
      "SSM data mean: 2.14\n",
      "SSM data std: 2.21\n",
      "SSM data max: 5.20\n",
      "SSM data min: 0.00\n",
      "\n",
      "[info] Song idx: 5 , Total bars: 84\n",
      "SSM data shape: (84, 84)\n",
      "SSM data mean: 1.65\n",
      "SSM data std: 1.24\n",
      "SSM data max: 4.80\n",
      "SSM data min: 0.00\n",
      "\n",
      "[info] Song idx: 6 , Total bars: 101\n",
      "SSM data shape: (101, 101)\n",
      "SSM data mean: 1.12\n",
      "SSM data std: 1.55\n",
      "SSM data max: 4.24\n",
      "SSM data min: 0.00\n",
      "\n",
      "[info] Song idx: 7 , Total bars: 91\n",
      "SSM data shape: (91, 91)\n",
      "SSM data mean: 2.99\n",
      "SSM data std: 1.75\n",
      "SSM data max: 5.74\n",
      "SSM data min: 0.00\n",
      "\n",
      "[info] Song idx: 8 , Total bars: 88\n",
      "SSM data shape: (88, 88)\n",
      "SSM data mean: 2.39\n",
      "SSM data std: 1.68\n",
      "SSM data max: 5.48\n",
      "SSM data min: 0.00\n",
      "\n",
      "[info] Song idx: 9 , Total bars: 79\n",
      "SSM data shape: (79, 79)\n",
      "SSM data mean: 1.41\n",
      "SSM data std: 1.20\n",
      "SSM data max: 4.58\n",
      "SSM data min: 0.00\n",
      "\n",
      "[info] Song idx: 10 , Total bars: 140\n",
      "SSM data shape: (140, 140)\n",
      "SSM data mean: 3.76\n",
      "SSM data std: 1.91\n",
      "SSM data max: 6.63\n",
      "SSM data min: 0.00\n",
      "\n",
      "[info] Song idx: 11 , Total bars: 68\n",
      "SSM data shape: (68, 68)\n",
      "SSM data mean: 0.90\n",
      "SSM data std: 1.37\n",
      "SSM data max: 4.12\n",
      "SSM data min: 0.00\n",
      "\n",
      "[info] Song idx: 12 , Total bars: 74\n",
      "SSM data shape: (74, 74)\n",
      "SSM data mean: 2.53\n",
      "SSM data std: 1.69\n",
      "SSM data max: 5.00\n",
      "SSM data min: 0.00\n",
      "\n",
      "[info] Song idx: 13 , Total bars: 62\n",
      "SSM data shape: (62, 62)\n",
      "SSM data mean: 2.37\n",
      "SSM data std: 1.69\n",
      "SSM data max: 6.00\n",
      "SSM data min: 0.00\n",
      "\n",
      "[info] Song idx: 14 , Total bars: 109\n",
      "SSM data shape: (109, 109)\n",
      "SSM data mean: 1.56\n",
      "SSM data std: 2.13\n",
      "SSM data max: 5.10\n",
      "SSM data min: 0.00\n",
      "\n",
      "[info] Song idx: 15 , Total bars: 67\n",
      "SSM data shape: (67, 67)\n",
      "SSM data mean: 1.89\n",
      "SSM data std: 1.81\n",
      "SSM data max: 5.29\n",
      "SSM data min: 0.00\n",
      "\n",
      "[info] Song idx: 16 , Total bars: 111\n",
      "SSM data shape: (111, 111)\n",
      "SSM data mean: 2.12\n",
      "SSM data std: 1.82\n",
      "SSM data max: 4.90\n",
      "SSM data min: 0.00\n",
      "\n",
      "[info] Song idx: 17 , Total bars: 95\n",
      "SSM data shape: (95, 95)\n",
      "SSM data mean: 3.65\n",
      "SSM data std: 1.51\n",
      "SSM data max: 5.57\n",
      "SSM data min: 0.00\n",
      "\n",
      "[info] Song idx: 18 , Total bars: 52\n",
      "SSM data shape: (52, 52)\n",
      "SSM data mean: 2.48\n",
      "SSM data std: 1.32\n",
      "SSM data max: 4.24\n",
      "SSM data min: 0.00\n",
      "\n",
      "[info] Song idx: 19 , Total bars: 118\n",
      "SSM data shape: (118, 118)\n",
      "SSM data mean: 2.03\n",
      "SSM data std: 1.37\n",
      "SSM data max: 6.00\n",
      "SSM data min: 0.00\n",
      "\n",
      "[info] Song idx: 20 , Total bars: 140\n",
      "SSM data shape: (140, 140)\n",
      "SSM data mean: 1.35\n",
      "SSM data std: 0.98\n",
      "SSM data max: 5.00\n",
      "SSM data min: 0.00\n",
      "\n",
      "[info] Song idx: 21 , Total bars: 133\n",
      "SSM data shape: (133, 133)\n",
      "SSM data mean: 2.99\n",
      "SSM data std: 1.43\n",
      "SSM data max: 5.20\n",
      "SSM data min: 0.00\n",
      "\n",
      "[info] Song idx: 22 , Total bars: 100\n",
      "SSM data shape: (100, 100)\n",
      "SSM data mean: 3.36\n",
      "SSM data std: 1.27\n",
      "SSM data max: 6.71\n",
      "SSM data min: 0.00\n",
      "\n",
      "[info] Song idx: 23 , Total bars: 146\n",
      "SSM data shape: (146, 146)\n",
      "SSM data mean: 1.70\n",
      "SSM data std: 1.29\n",
      "SSM data max: 4.47\n",
      "SSM data min: 0.00\n",
      "\n",
      "\n",
      "\n",
      "[info] Process done, total songs: 24\n"
     ]
    }
   ],
   "source": [
    "total_files = len(midi_track_obj_list)\n",
    "\n",
    "drum_ssm_data_list = []\n",
    "\n",
    "for song_idx in range(0, total_files):\n",
    "\n",
    "    #if song_idx > 10: break\n",
    "\n",
    "    drum_data = copy.deepcopy(song_drum_bar_list_46[song_idx])\n",
    "\n",
    "    print ('[info] Song idx: {} , Total bars: {}'.format(song_idx, len(drum_data)))\n",
    "    #print ('Bars data shape: {}'.format(drum_data[0].shape))\n",
    "\n",
    "    drum_data_flat = np.array([np.reshape(x, np.prod(x.shape)) for x in drum_data])\n",
    "    #print (drum_data_flat.shape)\n",
    "\n",
    "    drum_df = pd.DataFrame(drum_data_flat)\n",
    "\n",
    "    #print('frame length: {}'.format(len(drum_df.iloc[:,0])))\n",
    "    #print('pitch class: {}'.format(len(drum_df.iloc[0,:])))\n",
    "\n",
    "    drum_ssm_data = squareform(pdist(drum_df, metric='euclidean'))\n",
    "\n",
    "    print ('SSM data shape: {}'.format(drum_ssm_data.shape))\n",
    "    print ('SSM data mean: {:.2f}'.format(np.mean(drum_ssm_data)))\n",
    "    print ('SSM data std: {:.2f}'.format(np.std(drum_ssm_data)))\n",
    "    print ('SSM data max: {:.2f}'.format(np.max(drum_ssm_data)))\n",
    "    print ('SSM data min: {:.2f}'.format(np.min(drum_ssm_data)))\n",
    "    print ('')\n",
    "\n",
    "    drum_ssm_data_list.append(copy.copy(drum_ssm_data))\n",
    "\n",
    "print ('\\n\\n[info] Process done, total songs: {}'.format(len(drum_ssm_data_list)))"
   ]
  },
  {
   "cell_type": "markdown",
   "metadata": {},
   "source": [
    "## Check drum SSM data"
   ]
  },
  {
   "cell_type": "code",
   "execution_count": 68,
   "metadata": {},
   "outputs": [
    {
     "data": {
      "image/png": "[encoded data removed]",
      "text/plain": [
       "<Figure size 576x576 with 1 Axes>"
      ]
     },
     "metadata": {
      "needs_background": "light"
     },
     "output_type": "display_data"
    }
   ],
   "source": [
    "# show data 1\n",
    "song_idx = 5\n",
    "plot_data1 = copy.deepcopy(drum_ssm_data_list[song_idx])\n",
    "plt.figure(figsize=(8, 8))\n",
    "normal_data = plot_data1\n",
    "abnormal_data = (np.max(normal_data) - normal_data)\n",
    "plt.imshow(abnormal_data, origin='lower', cmap='hot')\n",
    "plt.show()"
   ]
  },
  {
   "cell_type": "markdown",
   "metadata": {},
   "source": [
    "## Save all drum SSM data"
   ]
  },
  {
   "cell_type": "code",
   "execution_count": 69,
   "metadata": {
    "scrolled": true
   },
   "outputs": [
    {
     "name": "stdout",
     "output_type": "stream",
     "text": [
      "[Info] start SSM saving...\n",
      "[Info] 2021-06-20 15:39:00\n",
      "\n",
      "[Info] Song Index: 0, 01_A_Hard_Days_Night_drum_only\n",
      "[Info] drum SSMs save done.\n",
      "[Info] 2021-06-20 15:39:00\n",
      "\n",
      "[Info] Song Index: 1, 02_Anna_drum_only\n",
      "[Info] drum SSMs save done.\n",
      "[Info] 2021-06-20 15:39:00\n",
      "\n",
      "[Info] Song Index: 2, 03_Back_In_The_USSR_drum_only\n",
      "[Info] drum SSMs save done.\n",
      "[Info] 2021-06-20 15:39:00\n",
      "\n",
      "[Info] Song Index: 3, 04_Cant_Buy_Me_Love_drum_only\n",
      "[Info] drum SSMs save done.\n",
      "[Info] 2021-06-20 15:39:00\n",
      "\n",
      "[Info] Song Index: 4, 05_Hold_Me_Tight_drum_only\n",
      "[Info] drum SSMs save done.\n",
      "[Info] 2021-06-20 15:39:00\n",
      "\n",
      "[Info] Song Index: 5, 06_I_Call_Your_Name_drum_only\n",
      "[Info] drum SSMs save done.\n",
      "[Info] 2021-06-20 15:39:00\n",
      "\n",
      "[Info] Song Index: 6, 07_I_Wanna_Be_Your_Man_drum_only\n",
      "[Info] drum SSMs save done.\n",
      "[Info] 2021-06-20 15:39:00\n",
      "\n",
      "[Info] Song Index: 7, 08_Money_drum_only\n",
      "[Info] drum SSMs save done.\n",
      "[Info] 2021-06-20 15:39:00\n",
      "\n",
      "[Info] Song Index: 8, 09_The_Word_drum_only\n",
      "[Info] drum SSMs save done.\n",
      "[Info] 2021-06-20 15:39:00\n",
      "\n",
      "[Info] Song Index: 9, 10_Free_As_A_Bird_drum_only\n",
      "[Info] drum SSMs save done.\n",
      "[Info] 2021-06-20 15:39:00\n",
      "\n",
      "[Info] Song Index: 10, 11_Hey_Jude_drum_only\n",
      "[Info] drum SSMs save done.\n",
      "[Info] 2021-06-20 15:39:00\n",
      "\n",
      "[Info] Song Index: 11, 12_Little_Child_drum_only\n",
      "[Info] drum SSMs save done.\n",
      "[Info] 2021-06-20 15:39:00\n",
      "\n",
      "[Info] Song Index: 12, 13_Hey_Bulldog_drum_only\n",
      "[Info] drum SSMs save done.\n",
      "[Info] 2021-06-20 15:39:00\n",
      "\n",
      "[Info] Song Index: 13, 14_Lovely_Rita_drum_only\n",
      "[Info] drum SSMs save done.\n",
      "[Info] 2021-06-20 15:39:00\n",
      "\n",
      "[Info] Song Index: 14, 15_The_Night_Before_drum_only\n",
      "[Info] drum SSMs save done.\n",
      "[Info] 2021-06-20 15:39:00\n",
      "\n",
      "[Info] Song Index: 15, 16_From_Me_To_You_drum_only\n",
      "[Info] drum SSMs save done.\n",
      "[Info] 2021-06-20 15:39:00\n",
      "\n",
      "[Info] Song Index: 16, 17_Roll_Over_Beethoven_drum_only\n",
      "[Info] drum SSMs save done.\n",
      "[Info] 2021-06-20 15:39:00\n",
      "\n",
      "[Info] Song Index: 17, 18_Come_Together_drum_only\n",
      "[Info] drum SSMs save done.\n",
      "[Info] 2021-06-20 15:39:00\n",
      "\n",
      "[Info] Song Index: 18, 19_Babys_In_Black_drum_only\n",
      "[Info] drum SSMs save done.\n",
      "[Info] 2021-06-20 15:39:00\n",
      "\n",
      "[Info] Song Index: 19, 21_Michael_Jackson_-_Bad_drum_only\n",
      "[Info] drum SSMs save done.\n",
      "[Info] 2021-06-20 15:39:00\n",
      "\n",
      "[Info] Song Index: 20, 22_Michael_Jackson_-_Billie_Jean_drum_only\n",
      "[Info] drum SSMs save done.\n",
      "[Info] 2021-06-20 15:39:00\n",
      "\n",
      "[Info] Song Index: 21, 23_Michael_Jackson_-_Man_In_The_Mirror_drum_only\n",
      "[Info] drum SSMs save done.\n",
      "[Info] 2021-06-20 15:39:00\n",
      "\n",
      "[Info] Song Index: 22, 24_Michael_Jackson_-_Smooth_Criminal_drum_only\n",
      "[Info] drum SSMs save done.\n",
      "[Info] 2021-06-20 15:39:00\n",
      "\n",
      "[Info] Song Index: 23, 25_Michael_Jackson_-_Beat_It_drum_only\n",
      "[Info] drum SSMs save done.\n",
      "[Info] 2021-06-20 15:39:00\n",
      "\n",
      "\n",
      "[info] files write done.\n",
      "[Info] 2021-06-20 15:39:00\n"
     ]
    }
   ],
   "source": [
    "print ('[Info] start SSM saving...')\n",
    "print ('[Info] ' + datetime.datetime.now().strftime('%Y-%m-%d %H:%M:%S') + '\\n')\n",
    "\n",
    "song_idx_idx_start = 0\n",
    "song_idx_idx_end = len(drum_ssm_data_list)\n",
    "\n",
    "for song_idx in range(song_idx_idx_start, song_idx_idx_end):\n",
    "\n",
    "    base_file_name = drum_only_mid_flist[song_idx].split('/')[-1][:-4]\n",
    "    print ('[Info] Song Index: {}, {}'.format(song_idx, base_file_name))\n",
    "\n",
    "    file_name = 'song_barlv_ssm_{:0>5}.pkl'.format(base_file_name)\n",
    "    folder_name = './pre_processed_data/bar_level_drum_ssm/'\n",
    "    full_file_name = folder_name + file_name\n",
    "    ensure_dir(full_file_name)\n",
    "\n",
    "    with open(full_file_name, 'wb') as pkl_file:\n",
    "        pickle.dump(drum_ssm_data_list[song_idx], pkl_file)\n",
    "\n",
    "    print ('[Info] drum SSMs save done.')\n",
    "    print ('[Info] ' + datetime.datetime.now().strftime('%Y-%m-%d %H:%M:%S') + '\\n')\n",
    "\n",
    "#print(bar_ssm_data_tmp.shape)\n",
    "print ('\\n[info] files write done.')\n",
    "print ('[Info] ' + datetime.datetime.now().strftime('%Y-%m-%d %H:%M:%S'))"
   ]
  },
  {
   "cell_type": "code",
   "execution_count": null,
   "metadata": {},
   "outputs": [],
   "source": []
  },
  {
   "cell_type": "code",
   "execution_count": null,
   "metadata": {},
   "outputs": [],
   "source": []
  },
  {
   "cell_type": "markdown",
   "metadata": {},
   "source": [
    "# define read CQT/drum SSM pkl file function"
   ]
  },
  {
   "cell_type": "code",
   "execution_count": 70,
   "metadata": {},
   "outputs": [
    {
     "name": "stdout",
     "output_type": "stream",
     "text": [
      "Total CQT SSM files: 24\n",
      "Total Drum SSM files: 24\n",
      "function define done.\n"
     ]
    }
   ],
   "source": [
    "# load CQT SSM file list\n",
    "cqt_ssm_flist = np.sort(glob.glob('./pre_processed_data/bar_level_cqt_ssm/*.pkl', recursive=True)).tolist()\n",
    "print ('Total CQT SSM files: {}'.format(len(cqt_ssm_flist)))\n",
    "\n",
    "# load drum SSM file list\n",
    "drum_ssm_flist = np.sort(glob.glob('./pre_processed_data/bar_level_drum_ssm/*.pkl', recursive=True)).tolist()\n",
    "print ('Total Drum SSM files: {}'.format(len(drum_ssm_flist)))\n",
    "\n",
    "# define read CQT SSM function\n",
    "def get_cqt_ssm_data(cqt_file_index, \n",
    "                     cqt_ssm_flist_in=cqt_ssm_flist):\n",
    "    \n",
    "    cqt_file_name = cqt_ssm_flist_in[cqt_file_index]\n",
    "    with open(cqt_file_name, 'rb') as pkl_file:        \n",
    "        load_cqt_data = pickle.load(pkl_file)\n",
    "    \n",
    "    # make data value in range [0 ~ 10.5]\n",
    "    return(load_cqt_data/50.0)\n",
    "\n",
    "# define read drum SSM function\n",
    "def get_drum_ssm_data(drum_file_index, \n",
    "                      drum_ssm_flist_in=drum_ssm_flist):\n",
    "    \n",
    "    drum_file_name = drum_ssm_flist_in[drum_file_index]\n",
    "    with open(drum_file_name, 'rb') as pkl_file:\n",
    "        load_drum_data = pickle.load(pkl_file)\n",
    "    \n",
    "    # make data value in range [0 ~ 1.0]\n",
    "    return(load_drum_data/15.0)\n",
    "\n",
    "print ('function define done.')"
   ]
  },
  {
   "cell_type": "markdown",
   "metadata": {},
   "source": [
    "# define CQT padding Function"
   ]
  },
  {
   "cell_type": "code",
   "execution_count": 71,
   "metadata": {},
   "outputs": [
    {
     "name": "stdout",
     "output_type": "stream",
     "text": [
      "Padding CQT SSM shape: (256, 256)\n",
      "Padding CQT SSM (reflective) shape: (256, 256)\n"
     ]
    }
   ],
   "source": [
    "# output data shape = (256, 256)\n",
    "def get_cqt_pad(input_ssm_data):\n",
    "    \n",
    "    #ssm_with_pad = np.zeros([260, 260])\n",
    "    ssm_with_pad = np.zeros([256, 256])\n",
    "    \n",
    "    input_ssm_h = input_ssm_data.shape[0]\n",
    "    input_ssm_w = input_ssm_data.shape[1]\n",
    "    \n",
    "    if input_ssm_h > 256:\n",
    "        ssm_data_crop = input_ssm_data[0:256, 0:256]\n",
    "    else:\n",
    "        ssm_data_crop = input_ssm_data\n",
    "    \n",
    "    #ssm_with_pad[1:input_ssm_h+1, 1:input_ssm_w+1] = copy.copy(input_ssm_data)\n",
    "    #ssm_with_pad[1:input_ssm_h+1, 1:input_ssm_w+1] = copy.copy(np.rot90(np.triu(np.transpose(input_ssm_data), k=1)))\n",
    "    #ssm_with_pad[0:input_ssm_h, 0:input_ssm_w] = copy.copy(np.rot90(np.triu(np.transpose(ssm_data_crop), k=1)))\n",
    "    ssm_with_pad[0:input_ssm_h, 0:input_ssm_w] = copy.copy(np.transpose(ssm_data_crop))\n",
    "    \n",
    "    # get value=1 mask as the ssm shape\n",
    "    #ssm_mask = np.zeros([256, 256])\n",
    "    #ssm_mask[0:input_ssm_h, 0:input_ssm_w] = copy.copy(np.transpose(np.ones_like(ssm_data_crop)))\n",
    "    \n",
    "    \n",
    "    # get original ssm size\n",
    "    get_original_song_len = input_ssm_data.shape[1]\n",
    "    \n",
    "    #return (ssm_with_pad, ssm_mask, get_original_song_len)\n",
    "    #return (ssm_with_pad, get_original_song_len)\n",
    "    return (ssm_with_pad)\n",
    "\n",
    "# show padding SSM shape\n",
    "file_idx = 0\n",
    "print('Padding CQT SSM shape: {}'.format(get_cqt_pad(get_cqt_ssm_data(file_idx)).shape))\n",
    "#print('padding cqt SSM mask shape: {}'.format(get_cqt_pad(cqt_ssm_list[song_index])[1].shape))\n",
    "#print('padding drum SSM shape: {}'.format(get_padding_ssm(drum_ssm_list[song_index])[0].shape))\n",
    "#print('padding drum SSM mask shape: {}'.format(get_padding_ssm(drum_ssm_list[song_index])[1].shape))\n",
    "\n",
    "\n",
    "def get_cqt_pad_refltv(input_ssm_data):\n",
    "    \n",
    "    #ssm_with_pad = np.zeros([260, 260])\n",
    "    ssm_with_pad = np.zeros([256, 256])\n",
    "    \n",
    "    input_ssm_h = input_ssm_data.shape[0]\n",
    "    input_ssm_w = input_ssm_data.shape[1]\n",
    "    \n",
    "    repeat_ratio = (256//input_ssm_h) + 2\n",
    "    \n",
    "    ssm_htemp = copy.copy(input_ssm_data)\n",
    "    \n",
    "    #print ('ratio: {}'.format(repeat_ratio))\n",
    "    \n",
    "    for repead_idx in range(0, repeat_ratio):\n",
    "        ssm_htemp = np.hstack([ssm_htemp, copy.copy(input_ssm_data)])\n",
    "        #print ('stack: {}'.format(repead_idx))\n",
    "        \n",
    "    ssm_vtemp = copy.copy(ssm_htemp)\n",
    "        \n",
    "    for repead_idx in range(0, repeat_ratio):\n",
    "        ssm_vtemp = np.vstack([ssm_vtemp, copy.copy(ssm_htemp)])\n",
    "    \n",
    "    \n",
    "    ssm_full_pad_out = ssm_vtemp[0:256, 0:256]\n",
    "    \n",
    "    #if input_ssm_h > 256:\n",
    "    #    ssm_data_crop = input_ssm_data[0:256, 0:256]\n",
    "    #else:\n",
    "    #    ssm_data_crop = input_ssm_data\n",
    "    \n",
    "    #ssm_with_pad[1:input_ssm_h+1, 1:input_ssm_w+1] = copy.copy(input_ssm_data)\n",
    "    #ssm_with_pad[1:input_ssm_h+1, 1:input_ssm_w+1] = copy.copy(np.rot90(np.triu(np.transpose(input_ssm_data), k=1)))\n",
    "    #ssm_with_pad[0:input_ssm_h, 0:input_ssm_w] = copy.copy(np.rot90(np.triu(np.transpose(ssm_data_crop), k=1)))\n",
    "    #ssm_with_pad[0:input_ssm_h, 0:input_ssm_w] = copy.copy(np.transpose(ssm_data_crop))\n",
    "    \n",
    "    # get value=1 mask as the ssm shape\n",
    "    #ssm_mask = np.zeros([256, 256])\n",
    "    #ssm_mask[0:input_ssm_h, 0:input_ssm_w] = copy.copy(np.transpose(np.ones_like(ssm_data_crop)))\n",
    "    \n",
    "    \n",
    "    # get original ssm size\n",
    "    get_original_song_len = input_ssm_data.shape[1]\n",
    "\n",
    "    #return (ssm_with_pad, ssm_mask, get_original_song_len)    \n",
    "    #return (ssm_full_pad_out, get_original_song_len)\n",
    "    return (ssm_full_pad_out)\n",
    "\n",
    "\n",
    "# show padding SSM shape\n",
    "file_idx = 0\n",
    "print('Padding CQT SSM (reflective) shape: {}'.format(get_cqt_pad_refltv(get_cqt_ssm_data(file_idx)).shape))\n",
    "#print('padding cqt SSM mask shape: {}'.format(get_cqt_pad(cqt_ssm_list[song_index])[1].shape))\n",
    "#print('padding drum SSM shape: {}'.format(get_padding_ssm(drum_ssm_list[song_index])[0].shape))\n",
    "#print('padding drum SSM mask shape: {}'.format(get_padding_ssm(drum_ssm_list[song_index])[1].shape))\n",
    "\n",
    "\n",
    "\n",
    "def get_ssm_vdiff(input_ssm_vdata):\n",
    "    gsh_ssm_vout_tmp = np.vstack([np.zeros([1, input_ssm_vdata.shape[1]]), input_ssm_vdata])[:input_ssm_vdata.shape[0],:]    \n",
    "    gsh_ssm_vout = copy.copy(input_ssm_vdata - gsh_ssm_vout_tmp)\n",
    "    return(gsh_ssm_vout)\n",
    "\n",
    "\n",
    "def get_ssm_hdiff(input_ssm_hdata):\n",
    "    gsh_ssm_hout_tmp = np.hstack([np.zeros([input_ssm_hdata.shape[0], 1]), input_ssm_hdata])[:, :input_ssm_hdata.shape[1]]\n",
    "    gsh_ssm_hout = copy.copy(input_ssm_hdata - gsh_ssm_hout_tmp)\n",
    "    return(gsh_ssm_hout)"
   ]
  },
  {
   "cell_type": "markdown",
   "metadata": {},
   "source": [
    "# Check CQT SSM data"
   ]
  },
  {
   "cell_type": "code",
   "execution_count": 72,
   "metadata": {
    "scrolled": true
   },
   "outputs": [
    {
     "name": "stdout",
     "output_type": "stream",
     "text": [
      "song_length: 81\n"
     ]
    },
    {
     "data": {
      "image/png": "[encoded data removed]",
      "text/plain": [
       "<Figure size 432x432 with 1 Axes>"
      ]
     },
     "metadata": {
      "needs_background": "light"
     },
     "output_type": "display_data"
    },
    {
     "data": {
      "image/png": "[encoded data removed]",
      "text/plain": [
       "<Figure size 432x432 with 1 Axes>"
      ]
     },
     "metadata": {
      "needs_background": "light"
     },
     "output_type": "display_data"
    },
    {
     "data": {
      "image/png": "[encoded data removed]",
      "text/plain": [
       "<Figure size 432x432 with 1 Axes>"
      ]
     },
     "metadata": {
      "needs_background": "light"
     },
     "output_type": "display_data"
    },
    {
     "data": {
      "image/png": "[encoded data removed]",
      "text/plain": [
       "<Figure size 432x432 with 1 Axes>"
      ]
     },
     "metadata": {
      "needs_background": "light"
     },
     "output_type": "display_data"
    },
    {
     "data": {
      "image/png": "[encoded data removed]",
      "text/plain": [
       "<Figure size 432x432 with 1 Axes>"
      ]
     },
     "metadata": {
      "needs_background": "light"
     },
     "output_type": "display_data"
    }
   ],
   "source": [
    "# show cqt ssm data\n",
    "file_idx = 1\n",
    "\n",
    "song_length = get_cqt_ssm_data(file_idx).shape[0]\n",
    "print ('song_length: {}'.format(song_length))\n",
    "\n",
    "plot_data_0 = get_cqt_ssm_data(file_idx)\n",
    "plot_data_1 = get_cqt_pad(get_cqt_ssm_data(file_idx))\n",
    "plot_data_2 = get_cqt_pad_refltv(get_cqt_ssm_data(file_idx))\n",
    "plot_data_3 = get_ssm_vdiff(get_cqt_ssm_data(file_idx))\n",
    "plot_data_4 = get_ssm_hdiff(get_cqt_ssm_data(file_idx))\n",
    "\n",
    "\n",
    "# plot data0 (original SSM)\n",
    "plt.figure(figsize=(6, 6))\n",
    "plt.imshow(plot_data_0, origin='lower', cmap='hot')\n",
    "plt.show()\n",
    "\n",
    "# plot data1 (pad 256 SSM)\n",
    "plt.figure(figsize=(6, 6))\n",
    "plt.imshow(plot_data_1, origin='lower', cmap='hot')\n",
    "plt.show()\n",
    "\n",
    "# plot data2 (reflactive padding)\n",
    "plt.figure(figsize=(6, 6))\n",
    "plt.imshow(plot_data_2, origin='lower', cmap='hot')\n",
    "plt.show()\n",
    "\n",
    "# plot data3 (h axis diff)\n",
    "plt.figure(figsize=(6, 6))\n",
    "plt.imshow(plot_data_3, origin='lower', cmap='hot')\n",
    "plt.show()\n",
    "\n",
    "# plot data4 (v axis diff)\n",
    "plt.figure(figsize=(6, 6))\n",
    "plt.imshow(plot_data_4, origin='lower', cmap='hot')\n",
    "plt.show()"
   ]
  },
  {
   "cell_type": "markdown",
   "metadata": {},
   "source": [
    "# define drum SSM padding Function"
   ]
  },
  {
   "cell_type": "code",
   "execution_count": 73,
   "metadata": {},
   "outputs": [
    {
     "name": "stdout",
     "output_type": "stream",
     "text": [
      "Padding drum SSM shape: (256, 256)\n",
      "Padding drum SSM mask shape: (256, 256)\n"
     ]
    }
   ],
   "source": [
    "# output data shape = (256, 256)\n",
    "def get_drum_pad(input_ssm_data):\n",
    "    \n",
    "    canvas_size = 256\n",
    "    \n",
    "    ssm_with_pad = np.zeros([canvas_size, canvas_size])\n",
    "    \n",
    "    input_ssm_h = input_ssm_data.shape[0]\n",
    "    input_ssm_w = input_ssm_data.shape[1]\n",
    "    \n",
    "    if input_ssm_h > canvas_size:\n",
    "        ssm_data_crop = input_ssm_data[0:canvas_size, 0:canvas_size]\n",
    "    else:\n",
    "        ssm_data_crop = input_ssm_data\n",
    "    \n",
    "    #ssm_with_pad[1:input_ssm_h+1, 1:input_ssm_w+1] = copy.copy(input_ssm_data)\n",
    "    #ssm_with_pad[1:input_ssm_h+1, 1:input_ssm_w+1] = copy.copy(np.rot90(np.triu(np.transpose(input_ssm_data), k=1)))\n",
    "    #ssm_with_pad[0:input_ssm_h, 0:input_ssm_w] = copy.copy(np.rot90(np.triu(np.transpose(ssm_data_crop), k=1)))\n",
    "    #ssm_with_pad[0:input_ssm_h, 0:input_ssm_w] = copy.copy(np.transpose(ssm_data_crop))\n",
    "    #ssm_with_pad[0:input_ssm_h, 0:input_ssm_w] = copy.copy(np.triu(np.transpose(ssm_data_crop)))\n",
    "    ssm_with_pad[0:input_ssm_h, 0:input_ssm_w] = copy.copy(np.transpose(ssm_data_crop))\n",
    "    \n",
    "    # get value=1 mask as the ssm shape\n",
    "    ssm_mask = np.zeros([canvas_size, canvas_size])\n",
    "    ssm_mask[0:input_ssm_h, 0:input_ssm_w] = copy.copy(np.triu(np.transpose(np.ones_like(ssm_data_crop))))\n",
    "    \n",
    "    \n",
    "    # get original ssm size\n",
    "    get_original_song_len = input_ssm_data.shape[1]\n",
    "    \n",
    "    #return (ssm_with_pad, ssm_mask, get_original_song_len)\n",
    "    return (ssm_with_pad, ssm_mask)\n",
    "\n",
    "\n",
    "\n",
    "def get_ssm_vdiff(input_ssm_vdata):\n",
    "    \n",
    "    gsh_ssm_vout_tmp = np.vstack([np.zeros([1, input_ssm_vdata.shape[1]]), input_ssm_vdata])[:input_ssm_vdata.shape[0],:]\n",
    "    \n",
    "    gsh_ssm_vout = copy.copy(input_ssm_vdata - gsh_ssm_vout_tmp)\n",
    "    \n",
    "    #return(gsh_ssm_vout_tmp)\n",
    "    return(gsh_ssm_vout)\n",
    "\n",
    "\n",
    "def get_ssm_hdiff(input_ssm_hdata):\n",
    "    \n",
    "    gsh_ssm_hout_tmp = np.hstack([np.zeros([input_ssm_hdata.shape[0], 1]), input_ssm_hdata])[:, :input_ssm_hdata.shape[1]]\n",
    "    \n",
    "    gsh_ssm_hout = copy.copy(input_ssm_hdata - gsh_ssm_hout_tmp)\n",
    "    \n",
    "    #return(gsh_ssm_hout_tmp)\n",
    "    return(gsh_ssm_hout)\n",
    "\n",
    "\n",
    "# show data shape\n",
    "song_idx = 20\n",
    "#print (get_drum_pad(get_drum_ssm_data(file_idx))[2])\n",
    "print ('Padding drum SSM shape: {}'.format(get_drum_pad(get_drum_ssm_data(file_idx))[0].shape))\n",
    "print ('Padding drum SSM mask shape: {}'.format(get_drum_pad(get_drum_ssm_data(file_idx))[1].shape))"
   ]
  },
  {
   "cell_type": "markdown",
   "metadata": {
    "scrolled": true
   },
   "source": [
    "# Check drum SSM padding data"
   ]
  },
  {
   "cell_type": "code",
   "execution_count": 74,
   "metadata": {
    "scrolled": true
   },
   "outputs": [
    {
     "data": {
      "image/png": "[encoded data removed]",
      "text/plain": [
       "<Figure size 576x576 with 1 Axes>"
      ]
     },
     "metadata": {
      "needs_background": "light"
     },
     "output_type": "display_data"
    },
    {
     "data": {
      "image/png": "[encoded data removed]",
      "text/plain": [
       "<Figure size 576x576 with 1 Axes>"
      ]
     },
     "metadata": {
      "needs_background": "light"
     },
     "output_type": "display_data"
    }
   ],
   "source": [
    "song_idx = 5\n",
    "plot_data0 = get_drum_pad(get_drum_ssm_data(file_idx))[0]\n",
    "plot_data1 = get_drum_pad(get_drum_ssm_data(file_idx))[1]\n",
    "\n",
    "plt.figure(figsize=(8, 8))\n",
    "plt.imshow(plot_data0, origin='lower', cmap='hot')\n",
    "plt.show()\n",
    "\n",
    "plt.figure(figsize=(8, 8))\n",
    "plt.imshow(plot_data1, origin='lower', cmap='hot')\n",
    "plt.show()"
   ]
  },
  {
   "cell_type": "markdown",
   "metadata": {},
   "source": [
    "# loop over files to add pad "
   ]
  },
  {
   "cell_type": "code",
   "execution_count": 75,
   "metadata": {
    "scrolled": true
   },
   "outputs": [
    {
     "name": "stdout",
     "output_type": "stream",
     "text": [
      "File processed: 1\n",
      "File processed: 2\n",
      "File processed: 3\n",
      "File processed: 4\n",
      "File processed: 5\n",
      "File processed: 6\n",
      "File processed: 7\n",
      "File processed: 8\n",
      "File processed: 9\n",
      "File processed: 10\n",
      "File processed: 11\n",
      "File processed: 12\n",
      "File processed: 13\n",
      "File processed: 14\n",
      "File processed: 15\n",
      "File processed: 16\n",
      "File processed: 17\n",
      "File processed: 18\n",
      "File processed: 19\n",
      "File processed: 20\n",
      "File processed: 21\n",
      "File processed: 22\n",
      "File processed: 23\n",
      "File processed: 24\n",
      "\n",
      "All files are processed: 24\n"
     ]
    }
   ],
   "source": [
    "total_good_files = len(cqt_ssm_flist)\n",
    "\n",
    "cqt_drum_ssm_data_list = []\n",
    "\n",
    "for file_idx in range(0, total_good_files):\n",
    "\n",
    "    song_len = get_cqt_ssm_data(file_idx).shape[0]\n",
    "\n",
    "    # get cqt SSM data\n",
    "    cqt_ssm_data_loaded = get_cqt_ssm_data(file_idx)\n",
    "\n",
    "    cqt_ssm_reflect_pad_no_diff = get_cqt_pad_refltv(cqt_ssm_data_loaded)\n",
    "\n",
    "    cqt_ssm_reflect_pad_hdiff = get_ssm_hdiff(cqt_ssm_reflect_pad_no_diff)\n",
    "\n",
    "    cqt_ssm_reflect_pad_vdiff = get_ssm_vdiff(cqt_ssm_reflect_pad_no_diff)\n",
    "\n",
    "    cqt_ssm_reflect_pad = np.concatenate((cqt_ssm_reflect_pad_no_diff[:,:,np.newaxis],\n",
    "                                          cqt_ssm_reflect_pad_hdiff[:,:,np.newaxis],\n",
    "                                          cqt_ssm_reflect_pad_vdiff[:,:,np.newaxis]), \n",
    "                                         axis=-1)      \n",
    "\n",
    "\n",
    "\n",
    "    # get drum SSM data\n",
    "    drum_ssm_data_loaded = get_drum_ssm_data(file_idx)\n",
    "\n",
    "    drum_ssm_pad_no_diff = get_drum_pad(drum_ssm_data_loaded)[0]\n",
    "\n",
    "    drum_ssm_pad_hdiff = get_ssm_hdiff(drum_ssm_pad_no_diff)\n",
    "\n",
    "    drum_ssm_pad_vdiff = get_ssm_vdiff(drum_ssm_pad_no_diff)\n",
    "\n",
    "    drum_ssm_pad = np.concatenate((drum_ssm_pad_no_diff[:,:,np.newaxis],\n",
    "                                   drum_ssm_pad_hdiff[:,:,np.newaxis],\n",
    "                                   drum_ssm_pad_vdiff[:,:,np.newaxis]), \n",
    "                                  axis=-1)     \n",
    "\n",
    "    drum_ssm_pad_mask = get_drum_pad(drum_ssm_data_loaded)[1]\n",
    "\n",
    "    drum_ssm_pad_mask_all_layer = np.concatenate((drum_ssm_pad_mask[:,:,np.newaxis],\n",
    "                                                  drum_ssm_pad_mask[:,:,np.newaxis],\n",
    "                                                  drum_ssm_pad_mask[:,:,np.newaxis]), \n",
    "                                                 axis=-1)    \n",
    "\n",
    "    ssm_valid_pix = np.mean(drum_ssm_pad_mask)\n",
    "\n",
    "\n",
    "    # save data into list\n",
    "    cqt_drum_ssm_data_list.append([cqt_ssm_reflect_pad,\n",
    "                                   drum_ssm_pad,\n",
    "                                   drum_ssm_pad_mask_all_layer,\n",
    "                                   ssm_valid_pix,\n",
    "                                   song_len])\n",
    "\n",
    "    if (file_idx+1)%1==0:\n",
    "        print ('File processed: {}'.format(file_idx+1))\n",
    "\n",
    "\n",
    "print ('\\nAll files are processed: {}'.format(len(cqt_drum_ssm_data_list)))"
   ]
  },
  {
   "cell_type": "markdown",
   "metadata": {},
   "source": [
    "# check data format"
   ]
  },
  {
   "cell_type": "code",
   "execution_count": 76,
   "metadata": {},
   "outputs": [
    {
     "name": "stdout",
     "output_type": "stream",
     "text": [
      "[info] Total songs: 24\n",
      "(256, 256, 3)\n",
      "(256, 256, 3)\n",
      "(256, 256, 3)\n",
      "0.0506744384765625\n",
      "81\n"
     ]
    }
   ],
   "source": [
    "print('[info] Total songs: {}'.format(len(cqt_drum_ssm_data_list)))\n",
    "print(cqt_drum_ssm_data_list[1][0].shape)\n",
    "print(cqt_drum_ssm_data_list[1][1].shape)\n",
    "print(cqt_drum_ssm_data_list[1][2].shape)\n",
    "print(cqt_drum_ssm_data_list[1][3])\n",
    "print(cqt_drum_ssm_data_list[1][4])"
   ]
  },
  {
   "cell_type": "markdown",
   "metadata": {},
   "source": [
    "# save all SSM data"
   ]
  },
  {
   "cell_type": "code",
   "execution_count": 77,
   "metadata": {
    "scrolled": true
   },
   "outputs": [
    {
     "name": "stdout",
     "output_type": "stream",
     "text": [
      "[info] File: \"./pre_processed_data/merged_ssm_pkg/test_midi_song_00.pkl\" is saved.\n",
      "[info] File: \"./pre_processed_data/merged_ssm_pkg/test_midi_song_01.pkl\" is saved.\n",
      "[info] File: \"./pre_processed_data/merged_ssm_pkg/test_midi_song_02.pkl\" is saved.\n",
      "[info] File: \"./pre_processed_data/merged_ssm_pkg/test_midi_song_03.pkl\" is saved.\n",
      "[info] File: \"./pre_processed_data/merged_ssm_pkg/test_midi_song_04.pkl\" is saved.\n",
      "[info] File: \"./pre_processed_data/merged_ssm_pkg/test_midi_song_05.pkl\" is saved.\n",
      "[info] File: \"./pre_processed_data/merged_ssm_pkg/test_midi_song_06.pkl\" is saved.\n",
      "[info] File: \"./pre_processed_data/merged_ssm_pkg/test_midi_song_07.pkl\" is saved.\n",
      "[info] File: \"./pre_processed_data/merged_ssm_pkg/test_midi_song_08.pkl\" is saved.\n",
      "[info] File: \"./pre_processed_data/merged_ssm_pkg/test_midi_song_09.pkl\" is saved.\n",
      "[info] File: \"./pre_processed_data/merged_ssm_pkg/test_midi_song_10.pkl\" is saved.\n",
      "[info] File: \"./pre_processed_data/merged_ssm_pkg/test_midi_song_11.pkl\" is saved.\n",
      "[info] File: \"./pre_processed_data/merged_ssm_pkg/test_midi_song_12.pkl\" is saved.\n",
      "[info] File: \"./pre_processed_data/merged_ssm_pkg/test_midi_song_13.pkl\" is saved.\n",
      "[info] File: \"./pre_processed_data/merged_ssm_pkg/test_midi_song_14.pkl\" is saved.\n",
      "[info] File: \"./pre_processed_data/merged_ssm_pkg/test_midi_song_15.pkl\" is saved.\n",
      "[info] File: \"./pre_processed_data/merged_ssm_pkg/test_midi_song_16.pkl\" is saved.\n",
      "[info] File: \"./pre_processed_data/merged_ssm_pkg/test_midi_song_17.pkl\" is saved.\n",
      "[info] File: \"./pre_processed_data/merged_ssm_pkg/test_midi_song_18.pkl\" is saved.\n",
      "[info] File: \"./pre_processed_data/merged_ssm_pkg/test_midi_song_19.pkl\" is saved.\n",
      "[info] File: \"./pre_processed_data/merged_ssm_pkg/test_midi_song_20.pkl\" is saved.\n",
      "[info] File: \"./pre_processed_data/merged_ssm_pkg/test_midi_song_21.pkl\" is saved.\n",
      "[info] File: \"./pre_processed_data/merged_ssm_pkg/test_midi_song_22.pkl\" is saved.\n",
      "[info] File: \"./pre_processed_data/merged_ssm_pkg/test_midi_song_23.pkl\" is saved.\n",
      "\n",
      "[info] All SSM pkl files are saved.\n"
     ]
    }
   ],
   "source": [
    "total_files = len(cqt_drum_ssm_data_list)\n",
    "\n",
    "for file_idx in range(0, total_files):\n",
    "\n",
    "    cqt_ssm_data_ary = cqt_drum_ssm_data_list[file_idx][0]\n",
    "    drum_ssm_data_ary = cqt_drum_ssm_data_list[file_idx][1]\n",
    "    drum_ssm_mask_ary = cqt_drum_ssm_data_list[file_idx][2]\n",
    "    valid_pix_mean_ary = cqt_drum_ssm_data_list[file_idx][3]\n",
    "    song_len_data_ary = cqt_drum_ssm_data_list[file_idx][4]\n",
    "\n",
    "    dump_data = [copy.deepcopy(cqt_ssm_data_ary),\n",
    "                 copy.deepcopy(drum_ssm_data_ary),\n",
    "                 copy.deepcopy(drum_ssm_mask_ary),\n",
    "                 copy.deepcopy(valid_pix_mean_ary),\n",
    "                 copy.deepcopy(song_len_data_ary)\n",
    "                 ]\n",
    "\n",
    "    file_name = 'test_midi_song_{:0>2}.pkl'.format(file_idx)\n",
    "    folder_name = './pre_processed_data/merged_ssm_pkg/'\n",
    "    full_file_name = folder_name + file_name    \n",
    "    ensure_dir(full_file_name)\n",
    "\n",
    "    with open(full_file_name, 'wb') as pkl_file:\n",
    "        pickle.dump(dump_data, pkl_file)\n",
    "        print ('[info] File: \\\"{}\\\" is saved.'.format(full_file_name))\n",
    "\n",
    "print ('\\n[info] All SSM pkl files are saved.')"
   ]
  },
  {
   "cell_type": "code",
   "execution_count": null,
   "metadata": {},
   "outputs": [],
   "source": []
  }
 ],
 "metadata": {
  "kernelspec": {
   "display_name": "Python 3",
   "language": "python",
   "name": "python3"
  },
  "language_info": {
   "codemirror_mode": {
    "name": "ipython",
    "version": 3
   },
   "file_extension": ".py",
   "mimetype": "text/x-python",
   "name": "python",
   "nbconvert_exporter": "python",
   "pygments_lexer": "ipython3",
   "version": "3.8.10"
  }
 },
 "nbformat": 4,
 "nbformat_minor": 2
}
